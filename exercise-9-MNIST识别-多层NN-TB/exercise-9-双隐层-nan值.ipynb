{
 "cells": [
  {
   "cell_type": "markdown",
   "metadata": {},
   "source": [
    "#出现nan值的原因:log(0)引起的数据不稳定\n",
    "tensorflow提供了结合softmax的交叉熵损失函数定义方法,即\n",
    "tf.nn.softmax_cross_entropy_with_logits(logits=,labels=)"
   ]
  },
  {
   "cell_type": "markdown",
   "metadata": {},
   "source": [
    "模型说明：\n",
    "双隐层，神经元个数分别为256和128个\n",
    "lr=0.05，epochs=50，batchsize=100"
   ]
  },
  {
   "cell_type": "code",
   "execution_count": 1,
   "metadata": {},
   "outputs": [
    {
     "name": "stdout",
     "output_type": "stream",
     "text": [
      "WARNING:tensorflow:From <ipython-input-1-1a52100d75c1>:3: read_data_sets (from tensorflow.contrib.learn.python.learn.datasets.mnist) is deprecated and will be removed in a future version.\n",
      "Instructions for updating:\n",
      "Please use alternatives such as official/mnist/dataset.py from tensorflow/models.\n",
      "WARNING:tensorflow:From /anaconda3/envs/dayuse/lib/python3.6/site-packages/tensorflow/contrib/learn/python/learn/datasets/mnist.py:260: maybe_download (from tensorflow.contrib.learn.python.learn.datasets.base) is deprecated and will be removed in a future version.\n",
      "Instructions for updating:\n",
      "Please write your own downloading logic.\n",
      "WARNING:tensorflow:From /anaconda3/envs/dayuse/lib/python3.6/site-packages/tensorflow/contrib/learn/python/learn/datasets/mnist.py:262: extract_images (from tensorflow.contrib.learn.python.learn.datasets.mnist) is deprecated and will be removed in a future version.\n",
      "Instructions for updating:\n",
      "Please use tf.data to implement this functionality.\n",
      "Extracting MNIST_data/train-images-idx3-ubyte.gz\n",
      "WARNING:tensorflow:From /anaconda3/envs/dayuse/lib/python3.6/site-packages/tensorflow/contrib/learn/python/learn/datasets/mnist.py:267: extract_labels (from tensorflow.contrib.learn.python.learn.datasets.mnist) is deprecated and will be removed in a future version.\n",
      "Instructions for updating:\n",
      "Please use tf.data to implement this functionality.\n",
      "Extracting MNIST_data/train-labels-idx1-ubyte.gz\n",
      "WARNING:tensorflow:From /anaconda3/envs/dayuse/lib/python3.6/site-packages/tensorflow/contrib/learn/python/learn/datasets/mnist.py:110: dense_to_one_hot (from tensorflow.contrib.learn.python.learn.datasets.mnist) is deprecated and will be removed in a future version.\n",
      "Instructions for updating:\n",
      "Please use tf.one_hot on tensors.\n",
      "Extracting MNIST_data/t10k-images-idx3-ubyte.gz\n",
      "Extracting MNIST_data/t10k-labels-idx1-ubyte.gz\n",
      "WARNING:tensorflow:From /anaconda3/envs/dayuse/lib/python3.6/site-packages/tensorflow/contrib/learn/python/learn/datasets/mnist.py:290: DataSet.__init__ (from tensorflow.contrib.learn.python.learn.datasets.mnist) is deprecated and will be removed in a future version.\n",
      "Instructions for updating:\n",
      "Please use alternatives such as official/mnist/dataset.py from tensorflow/models.\n"
     ]
    }
   ],
   "source": [
    "import tensorflow as tf\n",
    "from tensorflow.examples.tutorials.mnist import input_data\n",
    "mnist=input_data.read_data_sets('MNIST_data/',one_hot=True)\n",
    "\n",
    "#mnist中的图像已经经过归一化！\n",
    "#imshow()中可以用归一化后的值，不用特意✖️255！"
   ]
  },
  {
   "cell_type": "code",
   "execution_count": 2,
   "metadata": {},
   "outputs": [],
   "source": [
    "x=tf.placeholder(tf.float32,shape=[None,784],name='X')\n",
    "y=tf.placeholder(tf.float32,shape=[None,10],name='Y')"
   ]
  },
  {
   "cell_type": "code",
   "execution_count": 3,
   "metadata": {},
   "outputs": [],
   "source": [
    "def layer(Input,first,second,activation=None):\n",
    "    w=tf.Variable(tf.random_normal([first,second]))\n",
    "    b=tf.Variable(tf.zeros(second))\n",
    "    if activation=='relu':\n",
    "        output=tf.nn.relu(tf.matmul(Input,w)+b) \n",
    "    else:\n",
    "        output=tf.nn.softmax(tf.matmul(Input,w)+b)\n",
    "    return output"
   ]
  },
  {
   "cell_type": "code",
   "execution_count": 4,
   "metadata": {},
   "outputs": [],
   "source": [
    "units1=256\n",
    "units2=128\n",
    "\n",
    "lr=0.05\n",
    "epochs=50\n",
    "batchsize=100\n",
    "\n",
    "iterations=int(mnist.train.num_examples/batchsize)"
   ]
  },
  {
   "cell_type": "code",
   "execution_count": 5,
   "metadata": {},
   "outputs": [
    {
     "name": "stdout",
     "output_type": "stream",
     "text": [
      "WARNING:tensorflow:From /anaconda3/envs/dayuse/lib/python3.6/site-packages/tensorflow/python/framework/op_def_library.py:263: colocate_with (from tensorflow.python.framework.ops) is deprecated and will be removed in a future version.\n",
      "Instructions for updating:\n",
      "Colocations handled automatically by placer.\n"
     ]
    }
   ],
   "source": [
    "output1=layer(x,784,units1,'relu')  #(None,units1)\n",
    "output2=layer(output1,units1,units2,'relu') #(None,units2)\n",
    "\n",
    "prop=layer(output2,units2,10)  #(None,10)\n",
    "\n",
    "pred=tf.argmax(prop,axis=1) #(None,)"
   ]
  },
  {
   "cell_type": "code",
   "execution_count": 6,
   "metadata": {},
   "outputs": [],
   "source": [
    "#⚠️\n",
    "loss_function=tf.reduce_mean(-tf.reduce_sum(y*tf.log(prop),1)) #()\n",
    "comparison=tf.cast(tf.equal(pred,tf.argmax(y,axis=1)),dtype=tf.float32)  #(None,)\n",
    "accuracy=tf.reduce_mean(comparison) #()"
   ]
  },
  {
   "cell_type": "code",
   "execution_count": 7,
   "metadata": {},
   "outputs": [
    {
     "name": "stdout",
     "output_type": "stream",
     "text": [
      "WARNING:tensorflow:From /anaconda3/envs/dayuse/lib/python3.6/site-packages/tensorflow/python/ops/math_ops.py:3066: to_int32 (from tensorflow.python.ops.math_ops) is deprecated and will be removed in a future version.\n",
      "Instructions for updating:\n",
      "Use tf.cast instead.\n"
     ]
    }
   ],
   "source": [
    "optimizer=tf.train.GradientDescentOptimizer(lr).minimize(loss_function)"
   ]
  },
  {
   "cell_type": "code",
   "execution_count": 8,
   "metadata": {},
   "outputs": [],
   "source": [
    "from time import time\n",
    "start=time()"
   ]
  },
  {
   "cell_type": "code",
   "execution_count": 9,
   "metadata": {},
   "outputs": [],
   "source": [
    "sess=tf.Session()\n",
    "init=tf.global_variables_initializer()\n",
    "sess.run(init)"
   ]
  },
  {
   "cell_type": "code",
   "execution_count": 10,
   "metadata": {},
   "outputs": [
    {
     "name": "stdout",
     "output_type": "stream",
     "text": [
      "when epoch=0 loss_val=nan acc_val=0.0958\n",
      "when epoch=1 loss_val=nan acc_val=0.0958\n",
      "when epoch=2 loss_val=nan acc_val=0.0958\n",
      "when epoch=3 loss_val=nan acc_val=0.0958\n",
      "when epoch=4 loss_val=nan acc_val=0.0958\n",
      "when epoch=5 loss_val=nan acc_val=0.0958\n",
      "when epoch=6 loss_val=nan acc_val=0.0958\n",
      "when epoch=7 loss_val=nan acc_val=0.0958\n",
      "when epoch=8 loss_val=nan acc_val=0.0958\n",
      "when epoch=9 loss_val=nan acc_val=0.0958\n",
      "when epoch=10 loss_val=nan acc_val=0.0958\n",
      "when epoch=11 loss_val=nan acc_val=0.0958\n",
      "when epoch=12 loss_val=nan acc_val=0.0958\n",
      "when epoch=13 loss_val=nan acc_val=0.0958\n",
      "when epoch=14 loss_val=nan acc_val=0.0958\n",
      "when epoch=15 loss_val=nan acc_val=0.0958\n",
      "when epoch=16 loss_val=nan acc_val=0.0958\n",
      "when epoch=17 loss_val=nan acc_val=0.0958\n",
      "when epoch=18 loss_val=nan acc_val=0.0958\n",
      "when epoch=19 loss_val=nan acc_val=0.0958\n",
      "when epoch=20 loss_val=nan acc_val=0.0958\n",
      "when epoch=21 loss_val=nan acc_val=0.0958\n",
      "when epoch=22 loss_val=nan acc_val=0.0958\n",
      "when epoch=23 loss_val=nan acc_val=0.0958\n",
      "when epoch=24 loss_val=nan acc_val=0.0958\n",
      "when epoch=25 loss_val=nan acc_val=0.0958\n",
      "when epoch=26 loss_val=nan acc_val=0.0958\n",
      "when epoch=27 loss_val=nan acc_val=0.0958\n",
      "when epoch=28 loss_val=nan acc_val=0.0958\n",
      "when epoch=29 loss_val=nan acc_val=0.0958\n",
      "when epoch=30 loss_val=nan acc_val=0.0958\n",
      "when epoch=31 loss_val=nan acc_val=0.0958\n",
      "when epoch=32 loss_val=nan acc_val=0.0958\n",
      "when epoch=33 loss_val=nan acc_val=0.0958\n",
      "when epoch=34 loss_val=nan acc_val=0.0958\n",
      "when epoch=35 loss_val=nan acc_val=0.0958\n",
      "when epoch=36 loss_val=nan acc_val=0.0958\n",
      "when epoch=37 loss_val=nan acc_val=0.0958\n",
      "when epoch=38 loss_val=nan acc_val=0.0958\n",
      "when epoch=39 loss_val=nan acc_val=0.0958\n",
      "when epoch=40 loss_val=nan acc_val=0.0958\n",
      "when epoch=41 loss_val=nan acc_val=0.0958\n",
      "when epoch=42 loss_val=nan acc_val=0.0958\n",
      "when epoch=43 loss_val=nan acc_val=0.0958\n",
      "when epoch=44 loss_val=nan acc_val=0.0958\n",
      "when epoch=45 loss_val=nan acc_val=0.0958\n",
      "when epoch=46 loss_val=nan acc_val=0.0958\n",
      "when epoch=47 loss_val=nan acc_val=0.0958\n",
      "when epoch=48 loss_val=nan acc_val=0.0958\n",
      "when epoch=49 loss_val=nan acc_val=0.0958\n"
     ]
    }
   ],
   "source": [
    "for epoch in range(epochs):\n",
    "    for iteration in range(iterations):\n",
    "        xs,ys=mnist.train.next_batch(batchsize)\n",
    "        sess.run(optimizer,feed_dict={x:xs,y:ys})\n",
    "    loss_val,acc_val=sess.run([loss_function,accuracy],feed_dict={x:mnist.validation.images,y:mnist.validation.labels})\n",
    "    print ('when epoch=%d'%epoch,'loss_val=%.4f'%loss_val,'acc_val=%.4f'%acc_val)\n",
    "    "
   ]
  },
  {
   "cell_type": "code",
   "execution_count": 11,
   "metadata": {},
   "outputs": [
    {
     "name": "stdout",
     "output_type": "stream",
     "text": [
      "训练时间：787.89秒\n"
     ]
    }
   ],
   "source": [
    "duration=time()-start\n",
    "print ('训练时间：%.2f秒'%duration)"
   ]
  },
  {
   "cell_type": "code",
   "execution_count": 12,
   "metadata": {},
   "outputs": [
    {
     "name": "stdout",
     "output_type": "stream",
     "text": [
      "loss_train=nan acc_train=0.0990\n",
      "loss_val=nan acc_val=0.0958\n",
      "loss_test=nan acc_test=0.0980\n"
     ]
    }
   ],
   "source": [
    "loss_train,acc_train=sess.run([loss_function,accuracy],feed_dict={x:mnist.train.images,y:mnist.train.labels})\n",
    "print ('loss_train=%.4f'%loss_train,'acc_train=%.4f'%acc_train)\n",
    "loss_val,acc_val=sess.run([loss_function,accuracy],feed_dict={x:mnist.validation.images,y:mnist.validation.labels})\n",
    "print ('loss_val=%.4f'%loss_val,'acc_val=%.4f'%acc_val)\n",
    "loss_test,acc_test=sess.run([loss_function,accuracy],feed_dict={x:mnist.test.images,y:mnist.test.labels})\n",
    "print ('loss_test=%.4f'%loss_test,'acc_test=%.4f'%acc_test)"
   ]
  },
  {
   "cell_type": "code",
   "execution_count": 13,
   "metadata": {},
   "outputs": [
    {
     "data": {
      "image/png": "[encoded data removed]",
      "text/plain": [
       "<Figure size 720x864 with 10 Axes>"
      ]
     },
     "metadata": {},
     "output_type": "display_data"
    }
   ],
   "source": [
    "import matplotlib.pyplot as plt \n",
    "%matplotlib inline\n",
    "\n",
    "def plot_images_labels(imgs,labels,preds,index=0,num=10):\n",
    "    fig=plt.figure(figsize=(10,12))\n",
    "    for i in range(num):\n",
    "        plt.subplot(5,5,i+1)\n",
    "        plt.imshow(imgs[index+i].reshape(28,28)) #cmap='binary'\n",
    "        plt.title('label:{},pred:{}'.format(labels[i],preds[i]),fontsize=12)\n",
    "        plt.xticks([])\n",
    "        plt.yticks([])\n",
    "    plt.show()\n",
    "\n",
    "label_test=sess.run(tf.argmax(y,axis=1),feed_dict={y:mnist.test.labels})\n",
    "pred_test=sess.run(pred,feed_dict={x:mnist.test.images})\n",
    "\n",
    "plot_images_labels(mnist.test.images,label_test,pred_test)"
   ]
  },
  {
   "cell_type": "code",
   "execution_count": null,
   "metadata": {},
   "outputs": [],
   "source": []
  },
  {
   "cell_type": "code",
   "execution_count": 1,
   "metadata": {},
   "outputs": [
    {
     "name": "stdout",
     "output_type": "stream",
     "text": [
      "WARNING:tensorflow:From <ipython-input-1-dad4b17bfd60>:3: read_data_sets (from tensorflow.contrib.learn.python.learn.datasets.mnist) is deprecated and will be removed in a future version.\n",
      "Instructions for updating:\n",
      "Please use alternatives such as official/mnist/dataset.py from tensorflow/models.\n",
      "WARNING:tensorflow:From /anaconda3/envs/dayuse/lib/python3.6/site-packages/tensorflow/contrib/learn/python/learn/datasets/mnist.py:260: maybe_download (from tensorflow.contrib.learn.python.learn.datasets.base) is deprecated and will be removed in a future version.\n",
      "Instructions for updating:\n",
      "Please write your own downloading logic.\n",
      "WARNING:tensorflow:From /anaconda3/envs/dayuse/lib/python3.6/site-packages/tensorflow/contrib/learn/python/learn/datasets/mnist.py:262: extract_images (from tensorflow.contrib.learn.python.learn.datasets.mnist) is deprecated and will be removed in a future version.\n",
      "Instructions for updating:\n",
      "Please use tf.data to implement this functionality.\n",
      "Extracting MNIST_data/train-images-idx3-ubyte.gz\n",
      "WARNING:tensorflow:From /anaconda3/envs/dayuse/lib/python3.6/site-packages/tensorflow/contrib/learn/python/learn/datasets/mnist.py:267: extract_labels (from tensorflow.contrib.learn.python.learn.datasets.mnist) is deprecated and will be removed in a future version.\n",
      "Instructions for updating:\n",
      "Please use tf.data to implement this functionality.\n",
      "Extracting MNIST_data/train-labels-idx1-ubyte.gz\n",
      "WARNING:tensorflow:From /anaconda3/envs/dayuse/lib/python3.6/site-packages/tensorflow/contrib/learn/python/learn/datasets/mnist.py:110: dense_to_one_hot (from tensorflow.contrib.learn.python.learn.datasets.mnist) is deprecated and will be removed in a future version.\n",
      "Instructions for updating:\n",
      "Please use tf.one_hot on tensors.\n",
      "Extracting MNIST_data/t10k-images-idx3-ubyte.gz\n",
      "Extracting MNIST_data/t10k-labels-idx1-ubyte.gz\n",
      "WARNING:tensorflow:From /anaconda3/envs/dayuse/lib/python3.6/site-packages/tensorflow/contrib/learn/python/learn/datasets/mnist.py:290: DataSet.__init__ (from tensorflow.contrib.learn.python.learn.datasets.mnist) is deprecated and will be removed in a future version.\n",
      "Instructions for updating:\n",
      "Please use alternatives such as official/mnist/dataset.py from tensorflow/models.\n",
      "[[0.         0.         0.         0.         0.         0.\n",
      "  0.         0.         0.         0.         0.         0.\n",
      "  0.         0.         0.         0.         0.         0.\n",
      "  0.         0.         0.         0.         0.         0.\n",
      "  0.         0.         0.         0.        ]\n",
      " [0.         0.         0.         0.         0.         0.\n",
      "  0.         0.         0.         0.         0.         0.\n",
      "  0.         0.         0.         0.         0.         0.\n",
      "  0.         0.         0.         0.         0.         0.\n",
      "  0.         0.         0.         0.        ]\n",
      " [0.         0.         0.         0.         0.         0.\n",
      "  0.         0.         0.         0.         0.         0.\n",
      "  0.         0.         0.         0.         0.         0.\n",
      "  0.         0.         0.         0.         0.         0.\n",
      "  0.         0.         0.         0.        ]\n",
      " [0.         0.         0.         0.         0.         0.\n",
      "  0.         0.         0.         0.         0.         0.\n",
      "  0.         0.         0.         0.         0.         0.\n",
      "  0.         0.         0.         0.         0.         0.\n",
      "  0.         0.         0.         0.        ]\n",
      " [0.         0.         0.         0.         0.         0.\n",
      "  0.         0.         0.         0.         0.         0.\n",
      "  0.         0.         0.         0.         0.         0.\n",
      "  0.         0.         0.         0.         0.         0.\n",
      "  0.         0.         0.         0.        ]\n",
      " [0.         0.         0.         0.         0.         0.\n",
      "  0.         0.         0.         0.         0.         0.\n",
      "  0.         0.         0.         0.         0.         0.\n",
      "  0.         0.         0.         0.         0.         0.\n",
      "  0.         0.         0.         0.        ]\n",
      " [0.         0.         0.         0.         0.         0.\n",
      "  0.         0.         0.         0.         0.         0.\n",
      "  0.         0.         0.         0.         0.         0.\n",
      "  0.         0.         0.         0.         0.         0.\n",
      "  0.         0.         0.         0.        ]\n",
      " [0.         0.         0.         0.         0.         0.\n",
      "  0.         0.         0.         0.         0.         0.3803922\n",
      "  0.37647063 0.3019608  0.46274513 0.2392157  0.         0.\n",
      "  0.         0.         0.         0.         0.         0.\n",
      "  0.         0.         0.         0.        ]\n",
      " [0.         0.         0.         0.3529412  0.5411765  0.9215687\n",
      "  0.9215687  0.9215687  0.9215687  0.9215687  0.9215687  0.9843138\n",
      "  0.9843138  0.9725491  0.9960785  0.9607844  0.9215687  0.74509805\n",
      "  0.08235294 0.         0.         0.         0.         0.\n",
      "  0.         0.         0.         0.        ]\n",
      " [0.         0.         0.54901963 0.9843138  0.9960785  0.9960785\n",
      "  0.9960785  0.9960785  0.9960785  0.9960785  0.9960785  0.9960785\n",
      "  0.9960785  0.9960785  0.9960785  0.9960785  0.9960785  0.9960785\n",
      "  0.7411765  0.09019608 0.         0.         0.         0.\n",
      "  0.         0.         0.         0.        ]\n",
      " [0.         0.         0.8862746  0.9960785  0.81568635 0.7803922\n",
      "  0.7803922  0.7803922  0.7803922  0.54509807 0.2392157  0.2392157\n",
      "  0.2392157  0.2392157  0.2392157  0.5019608  0.8705883  0.9960785\n",
      "  0.9960785  0.7411765  0.08235294 0.         0.         0.\n",
      "  0.         0.         0.         0.        ]\n",
      " [0.         0.         0.14901961 0.32156864 0.0509804  0.\n",
      "  0.         0.         0.         0.         0.         0.\n",
      "  0.         0.         0.         0.         0.13333334 0.8352942\n",
      "  0.9960785  0.9960785  0.45098042 0.         0.         0.\n",
      "  0.         0.         0.         0.        ]\n",
      " [0.         0.         0.         0.         0.         0.\n",
      "  0.         0.         0.         0.         0.         0.\n",
      "  0.         0.         0.         0.         0.         0.32941177\n",
      "  0.9960785  0.9960785  0.9176471  0.         0.         0.\n",
      "  0.         0.         0.         0.        ]\n",
      " [0.         0.         0.         0.         0.         0.\n",
      "  0.         0.         0.         0.         0.         0.\n",
      "  0.         0.         0.         0.         0.         0.32941177\n",
      "  0.9960785  0.9960785  0.9176471  0.         0.         0.\n",
      "  0.         0.         0.         0.        ]\n",
      " [0.         0.         0.         0.         0.         0.\n",
      "  0.         0.         0.         0.         0.         0.\n",
      "  0.         0.         0.         0.         0.4156863  0.6156863\n",
      "  0.9960785  0.9960785  0.95294124 0.20000002 0.         0.\n",
      "  0.         0.         0.         0.        ]\n",
      " [0.         0.         0.         0.         0.         0.\n",
      "  0.         0.         0.         0.         0.         0.09803922\n",
      "  0.45882356 0.8941177  0.8941177  0.8941177  0.9921569  0.9960785\n",
      "  0.9960785  0.9960785  0.9960785  0.94117653 0.         0.\n",
      "  0.         0.         0.         0.        ]\n",
      " [0.         0.         0.         0.         0.         0.\n",
      "  0.         0.         0.         0.26666668 0.4666667  0.86274517\n",
      "  0.9960785  0.9960785  0.9960785  0.9960785  0.9960785  0.9960785\n",
      "  0.9960785  0.9960785  0.9960785  0.5568628  0.         0.\n",
      "  0.         0.         0.         0.        ]\n",
      " [0.         0.         0.         0.         0.         0.\n",
      "  0.         0.14509805 0.73333335 0.9921569  0.9960785  0.9960785\n",
      "  0.9960785  0.8745099  0.8078432  0.8078432  0.29411766 0.26666668\n",
      "  0.8431373  0.9960785  0.9960785  0.45882356 0.         0.\n",
      "  0.         0.         0.         0.        ]\n",
      " [0.         0.         0.         0.         0.         0.\n",
      "  0.4431373  0.8588236  0.9960785  0.9490197  0.89019614 0.45098042\n",
      "  0.34901962 0.12156864 0.         0.         0.         0.\n",
      "  0.7843138  0.9960785  0.9450981  0.16078432 0.         0.\n",
      "  0.         0.         0.         0.        ]\n",
      " [0.         0.         0.         0.         0.         0.\n",
      "  0.6627451  0.9960785  0.6901961  0.24313727 0.         0.\n",
      "  0.         0.         0.         0.         0.         0.18823531\n",
      "  0.9058824  0.9960785  0.9176471  0.         0.         0.\n",
      "  0.         0.         0.         0.        ]\n",
      " [0.         0.         0.         0.         0.         0.\n",
      "  0.07058824 0.48627454 0.         0.         0.         0.\n",
      "  0.         0.         0.         0.         0.         0.32941177\n",
      "  0.9960785  0.9960785  0.6509804  0.         0.         0.\n",
      "  0.         0.         0.         0.        ]\n",
      " [0.         0.         0.         0.         0.         0.\n",
      "  0.         0.         0.         0.         0.         0.\n",
      "  0.         0.         0.         0.         0.         0.54509807\n",
      "  0.9960785  0.9333334  0.22352943 0.         0.         0.\n",
      "  0.         0.         0.         0.        ]\n",
      " [0.         0.         0.         0.         0.         0.\n",
      "  0.         0.         0.         0.         0.         0.\n",
      "  0.         0.         0.         0.         0.8235295  0.9803922\n",
      "  0.9960785  0.65882355 0.         0.         0.         0.\n",
      "  0.         0.         0.         0.        ]\n",
      " [0.         0.         0.         0.         0.         0.\n",
      "  0.         0.         0.         0.         0.         0.\n",
      "  0.         0.         0.         0.         0.9490197  0.9960785\n",
      "  0.93725497 0.22352943 0.         0.         0.         0.\n",
      "  0.         0.         0.         0.        ]\n",
      " [0.         0.         0.         0.         0.         0.\n",
      "  0.         0.         0.         0.         0.         0.\n",
      "  0.         0.         0.         0.34901962 0.9843138  0.9450981\n",
      "  0.3372549  0.         0.         0.         0.         0.\n",
      "  0.         0.         0.         0.        ]\n",
      " [0.         0.         0.         0.         0.         0.\n",
      "  0.         0.         0.         0.         0.         0.\n",
      "  0.         0.         0.01960784 0.8078432  0.96470594 0.6156863\n",
      "  0.         0.         0.         0.         0.         0.\n",
      "  0.         0.         0.         0.        ]\n",
      " [0.         0.         0.         0.         0.         0.\n",
      "  0.         0.         0.         0.         0.         0.\n",
      "  0.         0.         0.01568628 0.45882356 0.27058825 0.\n",
      "  0.         0.         0.         0.         0.         0.\n",
      "  0.         0.         0.         0.        ]\n",
      " [0.         0.         0.         0.         0.         0.\n",
      "  0.         0.         0.         0.         0.         0.\n",
      "  0.         0.         0.         0.         0.         0.\n",
      "  0.         0.         0.         0.         0.         0.\n",
      "  0.         0.         0.         0.        ]]\n"
     ]
    }
   ],
   "source": [
    "import tensorflow as tf\n",
    "from tensorflow.examples.tutorials.mnist import input_data\n",
    "mnist=input_data.read_data_sets('MNIST_data/',one_hot=True)\n",
    "print (mnist.train.images[0].reshape(28,28))"
   ]
  },
  {
   "cell_type": "code",
   "execution_count": null,
   "metadata": {},
   "outputs": [],
   "source": []
  }
 ],
 "metadata": {
  "kernelspec": {
   "display_name": "Python 3",
   "language": "python",
   "name": "python3"
  },
  "language_info": {
   "codemirror_mode": {
    "name": "ipython",
    "version": 3
   },
   "file_extension": ".py",
   "mimetype": "text/x-python",
   "name": "python",
   "nbconvert_exporter": "python",
   "pygments_lexer": "ipython3",
   "version": "3.6.8"
  }
 },
 "nbformat": 4,
 "nbformat_minor": 2
}
