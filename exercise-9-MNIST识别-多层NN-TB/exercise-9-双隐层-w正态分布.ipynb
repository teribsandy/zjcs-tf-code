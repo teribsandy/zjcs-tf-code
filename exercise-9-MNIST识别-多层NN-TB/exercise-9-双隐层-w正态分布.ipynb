{
 "cells": [
  {
   "cell_type": "markdown",
   "metadata": {},
   "source": [
    "采用了tensorflow提供的结合softmax的交叉熵损失函数定义方法,即\n",
    "tf.nn.softmax_cross_entropy_with_logits(logits=,labels=)\n",
    "解决了nan值问题"
   ]
  },
  {
   "cell_type": "markdown",
   "metadata": {},
   "source": [
    "模型说明：\n",
    "双隐层，神经元个数分别为256和128个\n",
    "lr=0.05，epochs=50，batchsize=100"
   ]
  },
  {
   "cell_type": "markdown",
   "metadata": {},
   "source": [
    "模型结果：\n",
    "loss_train=0.3095 acc_train=0.9190\n",
    "loss_val=0.5490 acc_val=0.9042\n",
    "loss_test=0.4569 acc_test=0.9072\n",
    "显然，该模型的准确率还有待提高！（是从层数入手呢还是从每层的神经元个数入手呢？学习率要不要改呢？）\n",
    "\n",
    "⚠️先不考虑超参数问题，在本模型中初始化w服从的是正态分布，即w=tf.Variable(tf.random_normal([first,second]))\n",
    "\n",
    "🥚如果仅仅把w改成服从截断正态分布，模型的准确率明显提高了！\n",
    "w=tf.Variable(tf.truncated_normal([first,second],stddev=0.1))\n",
    "\n",
    "😺所以我们以后采取截断正态分布初始化w！！！"
   ]
  },
  {
   "cell_type": "code",
   "execution_count": 1,
   "metadata": {},
   "outputs": [
    {
     "name": "stdout",
     "output_type": "stream",
     "text": [
      "WARNING:tensorflow:From <ipython-input-1-1a52100d75c1>:3: read_data_sets (from tensorflow.contrib.learn.python.learn.datasets.mnist) is deprecated and will be removed in a future version.\n",
      "Instructions for updating:\n",
      "Please use alternatives such as official/mnist/dataset.py from tensorflow/models.\n",
      "WARNING:tensorflow:From /anaconda3/envs/dayuse/lib/python3.6/site-packages/tensorflow/contrib/learn/python/learn/datasets/mnist.py:260: maybe_download (from tensorflow.contrib.learn.python.learn.datasets.base) is deprecated and will be removed in a future version.\n",
      "Instructions for updating:\n",
      "Please write your own downloading logic.\n",
      "WARNING:tensorflow:From /anaconda3/envs/dayuse/lib/python3.6/site-packages/tensorflow/contrib/learn/python/learn/datasets/mnist.py:262: extract_images (from tensorflow.contrib.learn.python.learn.datasets.mnist) is deprecated and will be removed in a future version.\n",
      "Instructions for updating:\n",
      "Please use tf.data to implement this functionality.\n",
      "Extracting MNIST_data/train-images-idx3-ubyte.gz\n",
      "WARNING:tensorflow:From /anaconda3/envs/dayuse/lib/python3.6/site-packages/tensorflow/contrib/learn/python/learn/datasets/mnist.py:267: extract_labels (from tensorflow.contrib.learn.python.learn.datasets.mnist) is deprecated and will be removed in a future version.\n",
      "Instructions for updating:\n",
      "Please use tf.data to implement this functionality.\n",
      "Extracting MNIST_data/train-labels-idx1-ubyte.gz\n",
      "WARNING:tensorflow:From /anaconda3/envs/dayuse/lib/python3.6/site-packages/tensorflow/contrib/learn/python/learn/datasets/mnist.py:110: dense_to_one_hot (from tensorflow.contrib.learn.python.learn.datasets.mnist) is deprecated and will be removed in a future version.\n",
      "Instructions for updating:\n",
      "Please use tf.one_hot on tensors.\n",
      "Extracting MNIST_data/t10k-images-idx3-ubyte.gz\n",
      "Extracting MNIST_data/t10k-labels-idx1-ubyte.gz\n",
      "WARNING:tensorflow:From /anaconda3/envs/dayuse/lib/python3.6/site-packages/tensorflow/contrib/learn/python/learn/datasets/mnist.py:290: DataSet.__init__ (from tensorflow.contrib.learn.python.learn.datasets.mnist) is deprecated and will be removed in a future version.\n",
      "Instructions for updating:\n",
      "Please use alternatives such as official/mnist/dataset.py from tensorflow/models.\n"
     ]
    }
   ],
   "source": [
    "import tensorflow as tf\n",
    "from tensorflow.examples.tutorials.mnist import input_data\n",
    "mnist=input_data.read_data_sets('MNIST_data/',one_hot=True)"
   ]
  },
  {
   "cell_type": "code",
   "execution_count": 2,
   "metadata": {},
   "outputs": [],
   "source": [
    "x=tf.placeholder(tf.float32,shape=[None,784],name='X')\n",
    "y=tf.placeholder(tf.float32,shape=[None,10],name='Y')"
   ]
  },
  {
   "cell_type": "code",
   "execution_count": 3,
   "metadata": {},
   "outputs": [],
   "source": [
    "def layer(Input,first,second,activation=None):\n",
    "    w=tf.Variable(tf.random_normal([first,second]))\n",
    "    b=tf.Variable(tf.zeros(second))\n",
    "    if activation=='relu':\n",
    "        output=tf.nn.relu(tf.matmul(Input,w)+b) \n",
    "    else:\n",
    "        output=tf.matmul(Input,w)+b\n",
    "    return output"
   ]
  },
  {
   "cell_type": "code",
   "execution_count": 4,
   "metadata": {},
   "outputs": [],
   "source": [
    "units1=256\n",
    "units2=128\n",
    "\n",
    "lr=0.05\n",
    "epochs=50\n",
    "batchsize=100\n",
    "\n",
    "iterations=int(mnist.train.num_examples/batchsize)"
   ]
  },
  {
   "cell_type": "code",
   "execution_count": 5,
   "metadata": {},
   "outputs": [
    {
     "name": "stdout",
     "output_type": "stream",
     "text": [
      "WARNING:tensorflow:From /anaconda3/envs/dayuse/lib/python3.6/site-packages/tensorflow/python/framework/op_def_library.py:263: colocate_with (from tensorflow.python.framework.ops) is deprecated and will be removed in a future version.\n",
      "Instructions for updating:\n",
      "Colocations handled automatically by placer.\n"
     ]
    }
   ],
   "source": [
    "output1=layer(x,784,units1,'relu')  #(None,units1)\n",
    "output2=layer(output1,units1,units2,'relu') #(None,units2)\n",
    "\n",
    "output=layer(output2,units2,10)  #(None,10)\n",
    "prop=tf.nn.softmax(output)\n",
    "\n",
    "pred=tf.argmax(prop,axis=1) #(None,)"
   ]
  },
  {
   "cell_type": "code",
   "execution_count": 6,
   "metadata": {},
   "outputs": [
    {
     "name": "stdout",
     "output_type": "stream",
     "text": [
      "WARNING:tensorflow:From <ipython-input-6-40ee116252db>:2: softmax_cross_entropy_with_logits (from tensorflow.python.ops.nn_ops) is deprecated and will be removed in a future version.\n",
      "Instructions for updating:\n",
      "\n",
      "Future major versions of TensorFlow will allow gradients to flow\n",
      "into the labels input on backprop by default.\n",
      "\n",
      "See `tf.nn.softmax_cross_entropy_with_logits_v2`.\n",
      "\n"
     ]
    }
   ],
   "source": [
    "loss_function=tf.reduce_mean(\n",
    "    tf.nn.softmax_cross_entropy_with_logits(logits=output,labels=y)) #()\n",
    "comparison=tf.cast(tf.equal(pred,tf.argmax(y,axis=1)),dtype=tf.float32)  #(None,)\n",
    "accuracy=tf.reduce_mean(comparison) #()\n"
   ]
  },
  {
   "cell_type": "code",
   "execution_count": 7,
   "metadata": {},
   "outputs": [],
   "source": [
    "optimizer=tf.train.GradientDescentOptimizer(lr).minimize(loss_function)"
   ]
  },
  {
   "cell_type": "code",
   "execution_count": 8,
   "metadata": {},
   "outputs": [],
   "source": [
    "from time import time\n",
    "start=time()"
   ]
  },
  {
   "cell_type": "code",
   "execution_count": 9,
   "metadata": {},
   "outputs": [],
   "source": [
    "sess=tf.Session()\n",
    "init=tf.global_variables_initializer()\n",
    "sess.run(init)"
   ]
  },
  {
   "cell_type": "code",
   "execution_count": 10,
   "metadata": {},
   "outputs": [
    {
     "name": "stdout",
     "output_type": "stream",
     "text": [
      "when epoch=0 loss_val=2.0622 acc_val=0.3262\n",
      "when epoch=1 loss_val=1.6587 acc_val=0.4382\n",
      "when epoch=2 loss_val=1.5545 acc_val=0.5348\n",
      "when epoch=3 loss_val=1.5222 acc_val=0.5540\n",
      "when epoch=4 loss_val=1.2694 acc_val=0.6204\n",
      "when epoch=5 loss_val=1.1606 acc_val=0.6846\n",
      "when epoch=6 loss_val=1.0746 acc_val=0.7152\n",
      "when epoch=7 loss_val=0.9767 acc_val=0.7552\n",
      "when epoch=8 loss_val=1.0440 acc_val=0.7302\n",
      "when epoch=9 loss_val=0.9793 acc_val=0.7564\n",
      "when epoch=10 loss_val=0.8978 acc_val=0.7930\n",
      "when epoch=11 loss_val=0.8405 acc_val=0.8182\n",
      "when epoch=12 loss_val=0.8471 acc_val=0.8310\n",
      "when epoch=13 loss_val=0.8152 acc_val=0.8372\n",
      "when epoch=14 loss_val=0.7821 acc_val=0.8362\n",
      "when epoch=15 loss_val=0.8289 acc_val=0.8472\n",
      "when epoch=16 loss_val=0.7292 acc_val=0.8436\n",
      "when epoch=17 loss_val=0.7451 acc_val=0.8594\n",
      "when epoch=18 loss_val=0.7328 acc_val=0.8600\n",
      "when epoch=19 loss_val=0.6802 acc_val=0.8688\n",
      "when epoch=20 loss_val=0.7157 acc_val=0.8704\n",
      "when epoch=21 loss_val=0.7927 acc_val=0.8612\n",
      "when epoch=22 loss_val=0.6464 acc_val=0.8810\n",
      "when epoch=23 loss_val=0.6345 acc_val=0.8824\n",
      "when epoch=24 loss_val=0.6894 acc_val=0.8780\n",
      "when epoch=25 loss_val=0.6390 acc_val=0.8888\n",
      "when epoch=26 loss_val=0.6418 acc_val=0.8892\n",
      "when epoch=27 loss_val=0.6139 acc_val=0.8918\n",
      "when epoch=28 loss_val=0.6606 acc_val=0.8920\n",
      "when epoch=29 loss_val=0.6274 acc_val=0.8846\n",
      "when epoch=30 loss_val=0.5983 acc_val=0.8982\n",
      "when epoch=31 loss_val=0.5965 acc_val=0.8988\n",
      "when epoch=32 loss_val=0.5929 acc_val=0.8990\n",
      "when epoch=33 loss_val=0.5861 acc_val=0.9012\n",
      "when epoch=34 loss_val=0.5990 acc_val=0.9000\n",
      "when epoch=35 loss_val=0.5884 acc_val=0.9014\n",
      "when epoch=36 loss_val=0.5792 acc_val=0.9012\n",
      "when epoch=37 loss_val=0.5743 acc_val=0.9058\n",
      "when epoch=38 loss_val=0.5919 acc_val=0.9044\n",
      "when epoch=39 loss_val=0.6093 acc_val=0.9038\n",
      "when epoch=40 loss_val=0.5660 acc_val=0.9054\n",
      "when epoch=41 loss_val=0.5609 acc_val=0.9084\n",
      "when epoch=42 loss_val=0.5549 acc_val=0.9096\n",
      "when epoch=43 loss_val=0.5661 acc_val=0.9076\n",
      "when epoch=44 loss_val=0.5575 acc_val=0.9106\n",
      "when epoch=45 loss_val=0.5526 acc_val=0.9098\n",
      "when epoch=46 loss_val=0.5679 acc_val=0.9078\n",
      "when epoch=47 loss_val=0.6061 acc_val=0.8926\n",
      "when epoch=48 loss_val=0.5634 acc_val=0.9148\n",
      "when epoch=49 loss_val=0.5490 acc_val=0.9042\n"
     ]
    }
   ],
   "source": [
    "for epoch in range(epochs):\n",
    "    for iteration in range(iterations):\n",
    "        xs,ys=mnist.train.next_batch(batchsize)\n",
    "        sess.run(optimizer,feed_dict={x:xs,y:ys})\n",
    "    loss_val,acc_val=sess.run([loss_function,accuracy],feed_dict={x:mnist.validation.images,y:mnist.validation.labels})\n",
    "    print ('when epoch=%d'%epoch,'loss_val=%.4f'%loss_val,'acc_val=%.4f'%acc_val)\n",
    "    "
   ]
  },
  {
   "cell_type": "code",
   "execution_count": 11,
   "metadata": {},
   "outputs": [
    {
     "name": "stdout",
     "output_type": "stream",
     "text": [
      "训练时间：825.54秒\n"
     ]
    }
   ],
   "source": [
    "duration=time()-start\n",
    "print ('训练时间：%.2f秒'%duration)"
   ]
  },
  {
   "cell_type": "code",
   "execution_count": 12,
   "metadata": {},
   "outputs": [
    {
     "name": "stdout",
     "output_type": "stream",
     "text": [
      "loss_train=0.3095 acc_train=0.9190\n",
      "loss_val=0.5490 acc_val=0.9042\n",
      "loss_test=0.4569 acc_test=0.9072\n"
     ]
    }
   ],
   "source": [
    "loss_train,acc_train=sess.run([loss_function,accuracy],feed_dict={x:mnist.train.images,y:mnist.train.labels})\n",
    "print ('loss_train=%.4f'%loss_train,'acc_train=%.4f'%acc_train)\n",
    "loss_val,acc_val=sess.run([loss_function,accuracy],feed_dict={x:mnist.validation.images,y:mnist.validation.labels})\n",
    "print ('loss_val=%.4f'%loss_val,'acc_val=%.4f'%acc_val)\n",
    "loss_test,acc_test=sess.run([loss_function,accuracy],feed_dict={x:mnist.test.images,y:mnist.test.labels})\n",
    "print ('loss_test=%.4f'%loss_test,'acc_test=%.4f'%acc_test)"
   ]
  },
  {
   "cell_type": "code",
   "execution_count": 13,
   "metadata": {},
   "outputs": [
    {
     "data": {
      "image/png": "[encoded data removed]",
      "text/plain": [
       "<Figure size 720x864 with 10 Axes>"
      ]
     },
     "metadata": {},
     "output_type": "display_data"
    }
   ],
   "source": [
    "import matplotlib.pyplot as plt \n",
    "%matplotlib inline\n",
    "\n",
    "def plot_images_labels(imgs,labels,preds,index=0,num=10):\n",
    "    fig=plt.figure(figsize=(10,12))\n",
    "    for i in range(num):\n",
    "        plt.subplot(5,5,i+1)\n",
    "        plt.imshow(imgs[index+i].reshape(28,28)) #cmap='binary'\n",
    "        plt.title('label:{},pred:{}'.format(labels[i],preds[i]),fontsize=12)\n",
    "        plt.xticks([])\n",
    "        plt.yticks([])\n",
    "    plt.show()\n",
    "\n",
    "label_test=sess.run(tf.argmax(y,axis=1),feed_dict={y:mnist.test.labels})\n",
    "pred_test=sess.run(pred,feed_dict={x:mnist.test.images})\n",
    "\n",
    "plot_images_labels(mnist.test.images,label_test,pred_test)"
   ]
  },
  {
   "cell_type": "code",
   "execution_count": null,
   "metadata": {},
   "outputs": [],
   "source": []
  }
 ],
 "metadata": {
  "kernelspec": {
   "display_name": "Python 3",
   "language": "python",
   "name": "python3"
  },
  "language_info": {
   "codemirror_mode": {
    "name": "ipython",
    "version": 3
   },
   "file_extension": ".py",
   "mimetype": "text/x-python",
   "name": "python",
   "nbconvert_exporter": "python",
   "pygments_lexer": "ipython3",
   "version": "3.6.8"
  }
 },
 "nbformat": 4,
 "nbformat_minor": 2
}
