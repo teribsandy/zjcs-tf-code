{
 "cells": [
  {
   "cell_type": "markdown",
   "metadata": {},
   "source": [
    "# 下载与解压CIFAR-10数据集"
   ]
  },
  {
   "cell_type": "code",
   "execution_count": 1,
   "metadata": {},
   "outputs": [
    {
     "name": "stdout",
     "output_type": "stream",
     "text": [
      "cifar-10-python.tar.gz已被下载\n",
      "cifar-10-python.tar.gz已被解压\n"
     ]
    }
   ],
   "source": [
    "import urllib.request\n",
    "url='https://www.cs.toronto.edu/~kriz/cifar-10-python.tar.gz'\n",
    "filename = url.split('/')[-1]\n",
    "\n",
    "#下载\n",
    "import os\n",
    "if not os.path.isfile(filename):\n",
    "    print ('正在下载%s'%filename)\n",
    "    urllib.request.urlretrieve(url,filename)\n",
    "else:\n",
    "    print ('%s已被下载'%filename)\n",
    "\n",
    "#解压\n",
    "import tarfile\n",
    "if not os.path.exists('cifar-10-batches-py'):\n",
    "    print ('正在解压%s'%filename)\n",
    "    tar=tarfile.open(filename,'r:gz')\n",
    "    tar.extractall()\n",
    "    tar.close()\n",
    "else:\n",
    "    print ('%s已被解压'%filename)"
   ]
  },
  {
   "cell_type": "markdown",
   "metadata": {},
   "source": [
    "# 读取训练集和测试集\n",
    "CIFAR共有60000张图片\n",
    "50000张作为训练集（【5批】*10000张/批）\n",
    "10000张作为测试集（【1批】*10000张/批）\n",
    "每张分辨率为32*32的彩色图片构成一个大小为3072的一维数组,对应着一个label"
   ]
  },
  {
   "cell_type": "code",
   "execution_count": 3,
   "metadata": {},
   "outputs": [
    {
     "name": "stdout",
     "output_type": "stream",
     "text": [
      "cifar-10-batches-py/data_batch_1已加载完毕\n",
      "cifar-10-batches-py/data_batch_2已加载完毕\n",
      "cifar-10-batches-py/data_batch_3已加载完毕\n",
      "cifar-10-batches-py/data_batch_4已加载完毕\n",
      "cifar-10-batches-py/data_batch_5已加载完毕\n",
      "cifar-10-batches-py/test_batch已加载完毕\n",
      "cifar-10-batches-py已加载完毕\n",
      "(50000, 32, 32, 3) (50000,) (10000, 32, 32, 3) (10000,)\n"
     ]
    }
   ],
   "source": [
    "import numpy as np\n",
    "import pickle\n",
    "\n",
    "def load_CIFAR_batch(batchfilename):\n",
    "    f=open(batchfilename,'rb')\n",
    "    data_dict=pickle.load(f,encoding='bytes')\n",
    "    f.close()\n",
    "    images=data_dict[b'data']\n",
    "#     print (type(images),images.shape) #<class 'numpy.ndarray'> (10000, 3072)\n",
    "    labels=data_dict[b'labels']         #list\n",
    "    labels=np.array(labels)\n",
    "#     print (type(labels),labels.shape) #<class 'numpy.ndarray'> (10000,)\n",
    "    \n",
    "    #把原始数据结构调整为BCWH\n",
    "    images=images.reshape(10000,3,32,32)\n",
    "    #把通道数据C移动至最后一个维度，形成tensorflow处理图像数据的结构BWHC\n",
    "    images=images.transpose(0,2,3,1)\n",
    "    \n",
    "    return images,labels\n",
    "\n",
    "def load_CIFAR_data(foldername):\n",
    "    images_train=[]\n",
    "    labels_train=[]\n",
    "    for i in range(1,5+1):\n",
    "        batchfilename='{}/data_batch_{}'.format(foldername,i)\n",
    "        images,labels=load_CIFAR_batch(batchfilename)\n",
    "        print ('%s已加载完毕'%batchfilename)\n",
    "        images_train.append(images)\n",
    "        labels_train.append(labels) \n",
    "    Xtrain=np.concatenate(images_train)\n",
    "    Ytrain=np.concatenate(labels_train)\n",
    "    \n",
    "    testbatchfilename='{}/test_batch'.format(foldername)\n",
    "    Xtest,Ytest=load_CIFAR_batch(testbatchfilename)\n",
    "    print ('%s已加载完毕'%testbatchfilename)\n",
    "    \n",
    "    print ('%s已加载完毕'%foldername)\n",
    "    return Xtrain,Ytrain,Xtest,Ytest\n",
    "\n",
    "foldername='cifar-10-batches-py'\n",
    "Xtrain,Ytrain,Xtest,Ytest=load_CIFAR_data(foldername)\n",
    "\n",
    "print (Xtrain.shape,Ytrain.shape,Xtest.shape,Ytest.shape)\n",
    "# (50000, 32, 32, 3) (50000,) (10000, 32, 32, 3) (10000,)"
   ]
  },
  {
   "cell_type": "markdown",
   "metadata": {},
   "source": [
    "# 查看label所对应的类别信息\n",
    "batches.meta contains a Python dictionary object.\n",
    "label_names是一个含有10个元素的列表，如label_names[0]== \"airplane\" 等"
   ]
  },
  {
   "cell_type": "markdown",
   "metadata": {},
   "source": [
    "dict_items([(b'num_cases_per_batch', 10000), (b'label_names', [b'airplane', b'automobile', b'bird', b'cat', b'deer', b'dog', b'frog', b'horse', b'ship', b'truck']), (b'num_vis', 3072)])\n",
    "\n",
    "[b'airplane', b'automobile', b'bird', b'cat', b'deer', b'dog', b'frog', b'horse', b'ship', b'truck']"
   ]
  },
  {
   "cell_type": "code",
   "execution_count": 4,
   "metadata": {},
   "outputs": [
    {
     "name": "stdout",
     "output_type": "stream",
     "text": [
      "[b'airplane', b'automobile', b'bird', b'cat', b'deer', b'dog', b'frog', b'horse', b'ship', b'truck']\n"
     ]
    }
   ],
   "source": [
    "foldername='cifar-10-batches-py/'\n",
    "with open(os.path.join(foldername,'batches.meta'),'rb') as f:\n",
    "    label_dict=pickle.load(f,encoding='bytes')\n",
    "#     print (label_dict.items())\n",
    "    label_names=label_dict[b'label_names']\n",
    "    print (label_names)"
   ]
  },
  {
   "cell_type": "markdown",
   "metadata": {},
   "source": [
    "# 输出图像检验是否与标签字典对上了"
   ]
  },
  {
   "cell_type": "code",
   "execution_count": 5,
   "metadata": {},
   "outputs": [
    {
     "name": "stdout",
     "output_type": "stream",
     "text": [
      "label: 9 means b'truck'\n"
     ]
    },
    {
     "data": {
      "image/png": "[encoded data removed]",
      "text/plain": [
       "<Figure size 432x288 with 1 Axes>"
      ]
     },
     "metadata": {
      "needs_background": "light"
     },
     "output_type": "display_data"
    }
   ],
   "source": [
    "%matplotlib inline\n",
    "import matplotlib.pyplot as plt\n",
    "\n",
    "plt.imshow(Xtrain[1201])\n",
    "idx=Ytrain[1201]\n",
    "print ('label:',idx,'means',label_names[idx])"
   ]
  },
  {
   "cell_type": "markdown",
   "metadata": {},
   "source": [
    "# 图像数据预处理"
   ]
  },
  {
   "cell_type": "code",
   "execution_count": 6,
   "metadata": {},
   "outputs": [
    {
     "data": {
      "text/plain": [
       "array([0.23137255, 0.24313726, 0.24705882], dtype=float32)"
      ]
     },
     "execution_count": 6,
     "metadata": {},
     "output_type": "execute_result"
    }
   ],
   "source": [
    "Xtrain_normalize=Xtrain.astype('float32')/255.0 \n",
    "Xtest_normalize=Xtest.astype('float32')/255.0\n",
    "Xtrain_normalize[0][0][0]"
   ]
  },
  {
   "cell_type": "markdown",
   "metadata": {},
   "source": [
    "# 标签数据预处理"
   ]
  },
  {
   "cell_type": "markdown",
   "metadata": {},
   "source": [
    "OneHotEncoder(n_values=’auto’,  categorical_features=’all’,  dtype=<class ‘numpy.float64’>,  sparse=True,  handle_unknown=’error’)\n",
    "\n",
    "sparse表示编码的格式，默认为True，输出的是稀疏的存储格式，即索引加值的形式。\n",
    "指定 sparse = False则不需要在transform命令后加 toarray() "
   ]
  },
  {
   "cell_type": "code",
   "execution_count": 7,
   "metadata": {},
   "outputs": [
    {
     "name": "stderr",
     "output_type": "stream",
     "text": [
      "/anaconda3/envs/dayuse/lib/python3.6/site-packages/sklearn/preprocessing/_encoders.py:371: FutureWarning: The handling of integer data will change in version 0.22. Currently, the categories are determined based on the range [0, max(values)], while in the future they will be determined based on the unique values.\n",
      "If you want the future behaviour and silence this warning, you can specify \"categories='auto'\".\n",
      "In case you used a LabelEncoder before this OneHotEncoder to convert the categories to integers, then you can now use the OneHotEncoder directly.\n",
      "  warnings.warn(msg, FutureWarning)\n"
     ]
    }
   ],
   "source": [
    "from sklearn.preprocessing import OneHotEncoder\n",
    "\n",
    "encoder=OneHotEncoder(sparse=False)\n",
    "\n",
    "encoder.fit([[0],[1],[2],[3],[4],[5],[6],[7],[8],[9]])\n",
    "\n",
    "Ytrain_=Ytrain.reshape(-1,1) #(50000，1)\n",
    "Ytrain_onehot=encoder.transform(Ytrain_) #(50000,10)\n",
    "\n",
    "Ytest_=Ytest.reshape(-1,1) #(10000,1)\n",
    "Ytest_onehot=encoder.transform(Ytest_) #(10000,10)"
   ]
  },
  {
   "cell_type": "markdown",
   "metadata": {},
   "source": [
    "在实际应用中，我们更常用方法 fit_transform()，也就是一步到位\n",
    "\n",
    "encoder=OneHotEncoder(sparse=False)\n",
    "\n",
    "Ytrain_=Ytrain.reshape(-1,1) #(50000，1)\n",
    "Ytrain_onehot=encoder.fit_transform(Ytrain_) #(50000,10)\n",
    "\n",
    "Ytest_=Ytest.reshape(-1,1) #(10000,1)\n",
    "Ytest_onehot=encoder.fit_transform(Ytest_) #(10000,10)"
   ]
  },
  {
   "cell_type": "markdown",
   "metadata": {},
   "source": [
    "# 定义共享函数"
   ]
  },
  {
   "cell_type": "code",
   "execution_count": 8,
   "metadata": {},
   "outputs": [],
   "source": [
    "def weight(shape):\n",
    "    return tf.Variable(tf.truncated_normal(shape,stddev=0.1),name='W')\n",
    "def bias(shape):\n",
    "    return tf.Variable(tf.constant(0.1,shape=shape),name='b')"
   ]
  },
  {
   "cell_type": "markdown",
   "metadata": {},
   "source": [
    "## 卷积操作\n",
    "tf.nn.conv2d(input, filter, strides, padding, use_cudnn_on_gpu=None,name=None)\n",
    "\n",
    "input是4维张量([batch, height, width, in_channels])，类型为float32或float64其一。\n",
    "filter是卷积核([filter_height, filter_width, in_channels, out_channels])\n",
    "strides是图像每一维的步长，是一个长度为4的一维向量。\n",
    "padding定义了元素边框与元素内容之间的空间，\"SAME\"表示边缘填充; \"VALID\"表示边缘不填充。\n",
    "\n",
    "返回一个tensor，即feature map。"
   ]
  },
  {
   "cell_type": "code",
   "execution_count": 9,
   "metadata": {},
   "outputs": [],
   "source": [
    "def conv2d(x,w):\n",
    "    return tf.nn.conv2d(x,w,strides=[1,1,1,1],padding='SAME')"
   ]
  },
  {
   "cell_type": "markdown",
   "metadata": {},
   "source": [
    "## 池化操作\n",
    "最大池化 tf.nn.max_pool(value, ksize, strides, padding, name=None) \n",
    "平均池化 tf.nn.avg_pool(value, ksize, strides, padding, name=None)\n",
    "\n",
    "value表示需要池化的输入，通常是conv2d所输出的feature map，即4维的张量([batch, height, width, channels])\n",
    "ksize表示池化窗口的大小，由于一般不在batch和channel上做池化，所以ksize为[1,height, width,1]\n",
    "strides是图像每一维的步长，是一个长度为4的一维向量。\n",
    "padding和卷积函数中padding含义一样\n",
    "name表示该操作的名称\n",
    "\n",
    "返回一个tensor"
   ]
  },
  {
   "cell_type": "code",
   "execution_count": 10,
   "metadata": {},
   "outputs": [],
   "source": [
    "def max_pool_2x2(x):\n",
    "    return tf.nn.max_pool(x,[1,2,2,1],[1,2,2,1],padding='SAME') #步长为2，即原尺寸的长和宽各除以2"
   ]
  },
  {
   "cell_type": "markdown",
   "metadata": {},
   "source": [
    "<img src='cnn网络结构.png'>"
   ]
  },
  {
   "cell_type": "markdown",
   "metadata": {},
   "source": [
    "# 定义网络结构"
   ]
  },
  {
   "cell_type": "code",
   "execution_count": 12,
   "metadata": {},
   "outputs": [
    {
     "name": "stdout",
     "output_type": "stream",
     "text": [
      "WARNING:tensorflow:From /anaconda3/envs/dayuse/lib/python3.6/site-packages/tensorflow/python/framework/op_def_library.py:263: colocate_with (from tensorflow.python.framework.ops) is deprecated and will be removed in a future version.\n",
      "Instructions for updating:\n",
      "Colocations handled automatically by placer.\n",
      "WARNING:tensorflow:From <ipython-input-12-9b7a55eb6491>:28: calling dropout (from tensorflow.python.ops.nn_ops) with keep_prob is deprecated and will be removed in a future version.\n",
      "Instructions for updating:\n",
      "Please use `rate` instead of `keep_prob`. Rate should be set to `rate = 1 - keep_prob`.\n"
     ]
    }
   ],
   "source": [
    "import tensorflow as tf\n",
    "\n",
    "with tf.name_scope('input_layer'):\n",
    "    x=tf.placeholder(tf.float32,shape=[None,32,32,3],name='imagesdata')\n",
    "\n",
    "with tf.name_scope('conv_layer1'):\n",
    "    W1=weight([3,3,3,32]) #[卷积核宽度，卷积核高度，输入通道数，输出通道数]\n",
    "    b1=bias([32]) #与输出通道数一致\n",
    "    conv1=tf.nn.relu(conv2d(x,W1)+b1)\n",
    "\n",
    "with tf.name_scope('maxpool_layer1'):\n",
    "    pool1=max_pool_2x2(conv1)\n",
    "\n",
    "with tf.name_scope('conv_layer2'):\n",
    "    W2=weight([3,3,32,64])\n",
    "    b2=bias([64])\n",
    "    conv2=tf.nn.relu(conv2d(pool1,W2)+b2)\n",
    "\n",
    "with tf.name_scope('maxpool_layer2'):\n",
    "    pool2=max_pool_2x2(conv2)\n",
    "    \n",
    "with tf.name_scope('fc_layer'):\n",
    "    #将第2个池化层的64个8X8的图像转化成一维向量，该向量长度为4096\n",
    "    W3=weight([4096,128])\n",
    "    b3=bias([128])\n",
    "    flat=tf.reshape(pool2,[-1,4096])\n",
    "    h=tf.nn.relu(tf.matmul(flat,W3)+b3)\n",
    "    h_dropout=tf.nn.dropout(h,keep_prob=0.8)\n",
    "\n",
    "with tf.name_scope('output_layer'):\n",
    "    W4=weight([128,10])\n",
    "    b4=bias([10])\n",
    "    output=tf.matmul(h_dropout,W4)+b4\n",
    "    prop=tf.nn.softmax(output)"
   ]
  },
  {
   "cell_type": "markdown",
   "metadata": {},
   "source": [
    "# 构建模型"
   ]
  },
  {
   "cell_type": "code",
   "execution_count": 14,
   "metadata": {},
   "outputs": [
    {
     "name": "stdout",
     "output_type": "stream",
     "text": [
      "WARNING:tensorflow:From <ipython-input-14-903e75a87faf>:4: softmax_cross_entropy_with_logits (from tensorflow.python.ops.nn_ops) is deprecated and will be removed in a future version.\n",
      "Instructions for updating:\n",
      "\n",
      "Future major versions of TensorFlow will allow gradients to flow\n",
      "into the labels input on backprop by default.\n",
      "\n",
      "See `tf.nn.softmax_cross_entropy_with_logits_v2`.\n",
      "\n"
     ]
    }
   ],
   "source": [
    "with tf.name_scope('optimizer'):\n",
    "    y=tf.placeholder(tf.float32,shape=[None,10],name='label')\n",
    "    loss_function=tf.reduce_mean(\n",
    "        tf.nn.softmax_cross_entropy_with_logits(logits=output,labels=y))\n",
    "    optimizer=tf.train.AdamOptimizer(0.0001).minimize(loss_function)"
   ]
  },
  {
   "cell_type": "markdown",
   "metadata": {},
   "source": [
    "# 定义准确率"
   ]
  },
  {
   "cell_type": "code",
   "execution_count": 16,
   "metadata": {},
   "outputs": [],
   "source": [
    "with tf.name_scope('evaluation'):\n",
    "    comparison=tf.cast(tf.equal(tf.argmax(prop,1),tf.argmax(y,1)),tf.float32)\n",
    "    accuracy=tf.reduce_mean(comparison)"
   ]
  },
  {
   "cell_type": "markdown",
   "metadata": {},
   "source": [
    "# 设置超参"
   ]
  },
  {
   "cell_type": "code",
   "execution_count": 23,
   "metadata": {},
   "outputs": [],
   "source": [
    "epochs=10\n",
    "batchsize=50\n",
    "iterations=int(len(Xtrain)/batchsize)"
   ]
  },
  {
   "cell_type": "code",
   "execution_count": 24,
   "metadata": {},
   "outputs": [],
   "source": [
    "epoch=tf.Variable(0,name='epoch',trainable=False)"
   ]
  },
  {
   "cell_type": "markdown",
   "metadata": {},
   "source": [
    "# 记录运行时间"
   ]
  },
  {
   "cell_type": "code",
   "execution_count": 25,
   "metadata": {},
   "outputs": [],
   "source": [
    "from time import time\n",
    "starttime=time()"
   ]
  },
  {
   "cell_type": "markdown",
   "metadata": {},
   "source": [
    "# 启动会话"
   ]
  },
  {
   "cell_type": "code",
   "execution_count": 26,
   "metadata": {},
   "outputs": [],
   "source": [
    "sess=tf.Session()\n",
    "init=tf.global_variables_initializer()\n",
    "sess.run(init)"
   ]
  },
  {
   "cell_type": "markdown",
   "metadata": {},
   "source": [
    "# 断点续训"
   ]
  },
  {
   "cell_type": "code",
   "execution_count": 27,
   "metadata": {},
   "outputs": [
    {
     "name": "stdout",
     "output_type": "stream",
     "text": [
      "Training from scratch\n",
      "Training starts from 1 epoch\n"
     ]
    }
   ],
   "source": [
    "import os\n",
    "\n",
    "ckpt_dir='ckpt_dir/'\n",
    "if not os.path.exists(ckpt_dir):\n",
    "    os.makedirs(ckpt_dir)\n",
    "\n",
    "saver=tf.train.Saver(max_to_keep=1) # max_to_keep 参数用来设置保存模型的个数，默认为5，保存最近的5个模型。如果你想每训练一代就保存一次模型，可将 max_to_keep设置为None或者0。\n",
    "\n",
    "ckpt=tf.train.get_checkpoint_state(ckpt_dir) #ckpt=tf.train.latest_checkpoint(ckpt_dir)\n",
    "\n",
    "if ckpt:\n",
    "    saver.restore(sess, ckpt) #从已保存的模型中读取参数!\n",
    "else:\n",
    "    print ('Training from scratch')\n",
    "    \n",
    "start=sess.run(epoch)\n",
    "print ('Training starts from %d epoch'%(start+1))"
   ]
  },
  {
   "cell_type": "markdown",
   "metadata": {},
   "source": [
    "# 迭代训练"
   ]
  },
  {
   "cell_type": "code",
   "execution_count": 28,
   "metadata": {},
   "outputs": [
    {
     "name": "stdout",
     "output_type": "stream",
     "text": [
      "when epoch=1 loss_val=1.9623 acc_val=0.3000\n",
      "when epoch=2 loss_val=1.8320 acc_val=0.3600\n",
      "when epoch=3 loss_val=1.8675 acc_val=0.3800\n",
      "when epoch=4 loss_val=1.7255 acc_val=0.4600\n",
      "when epoch=5 loss_val=1.7613 acc_val=0.4000\n",
      "when epoch=6 loss_val=1.5703 acc_val=0.4800\n",
      "when epoch=7 loss_val=1.5954 acc_val=0.4000\n",
      "when epoch=8 loss_val=1.5599 acc_val=0.4400\n",
      "when epoch=9 loss_val=1.5567 acc_val=0.4800\n",
      "when epoch=10 loss_val=1.5163 acc_val=0.4600\n",
      "WARNING:tensorflow:From /anaconda3/envs/dayuse/lib/python3.6/site-packages/tensorflow/python/training/saver.py:966: remove_checkpoint (from tensorflow.python.training.checkpoint_management) is deprecated and will be removed in a future version.\n",
      "Instructions for updating:\n",
      "Use standard file APIs to delete files with this prefix.\n",
      "Model saved\n"
     ]
    }
   ],
   "source": [
    "def get_train_batch(num,batchsize):\n",
    "    return Xtrain_normalize[num*batchsize:(num+1)*batchsize],Ytrain_onehot[num*batchsize:(num+1)*batchsize]\n",
    "\n",
    "losslist=[]\n",
    "acclist=[]\n",
    "\n",
    "for ep in range(start,epochs):\n",
    "    for iteration in range(iterations):\n",
    "        xs,ys=get_train_batch(iteration,batchsize)\n",
    "        sess.run(optimizer,feed_dict={x:xs,y:ys})\n",
    "    \n",
    "    loss,acc=sess.run([loss_function,accuracy],feed_dict={x:xs,y:ys})\n",
    "    losslist.append(loss)\n",
    "    acclist.append(acc)\n",
    "    \n",
    "    print ('when epoch=%d'%(ep+1),'loss=%.4f'%loss,'acc=%.4f'%acc)\n",
    "    \n",
    "    if (ep+1)%5==0: #每经过5轮训练，存储一次模型\n",
    "        saver.save(sess,os.path.join(ckpt_dir,\n",
    "                                     'model_{:06d}.ckpt'.format(ep+1)))\n",
    "\n",
    "saver.save(sess,os.path.join(ckpt_dir,'model.ckpt')) #所有训练结束后，存储模型\n",
    "print ('Model saved')"
   ]
  },
  {
   "cell_type": "code",
   "execution_count": 29,
   "metadata": {},
   "outputs": [
    {
     "name": "stdout",
     "output_type": "stream",
     "text": [
      "Train finished takes: 5484.909717082977\n"
     ]
    }
   ],
   "source": [
    "print ('Train finished takes:',time()-starttime)"
   ]
  },
  {
   "cell_type": "markdown",
   "metadata": {},
   "source": [
    "# 可视化损失值和准确率"
   ]
  },
  {
   "cell_type": "code",
   "execution_count": 30,
   "metadata": {},
   "outputs": [
    {
     "data": {
      "text/plain": [
       "Text(0, 0.5, 'accuracy')"
      ]
     },
     "execution_count": 30,
     "metadata": {},
     "output_type": "execute_result"
    },
    {
     "data": {
      "image/png": "[encoded data removed]",
      "text/plain": [
       "<Figure size 432x288 with 1 Axes>"
      ]
     },
     "metadata": {
      "needs_background": "light"
     },
     "output_type": "display_data"
    }
   ],
   "source": [
    "%matplotlib inline\n",
    "import matplotlib.pyplot as plt\n",
    "\n",
    "plt.plot(losslist)\n",
    "plt.xlabel('epoch')\n",
    "plt.ylabel('loss')\n",
    "\n",
    "plt.plot(acclist)\n",
    "plt.xlabel('epoch')\n",
    "plt.ylabel('accuracy')"
   ]
  },
  {
   "cell_type": "markdown",
   "metadata": {},
   "source": [
    "# 计算测试集上的准确率"
   ]
  },
  {
   "cell_type": "code",
   "execution_count": 32,
   "metadata": {},
   "outputs": [
    {
     "name": "stdout",
     "output_type": "stream",
     "text": [
      "Test average accuracy:0.6012\n"
     ]
    }
   ],
   "source": [
    "test_acc_sum=0.0\n",
    "for i in range(int(len(Xtest_normalize)/batchsize)):\n",
    "    test_image_batch=Xtest_normalize[i*batchsize:(i+1)*batchsize]\n",
    "    test_label_batch=Ytest_onehot[i*batchsize:(i+1)*batchsize]\n",
    "    test_batch_acc=sess.run(accuracy,feed_dict={x:test_image_batch,y:test_label_batch})\n",
    "    test_acc_sum+=test_batch_acc\n",
    "test_acc_average=test_acc_sum/float(len(Xtest_normalize)/batchsize)\n",
    "print ('Test average accuracy:{:.4f}'.format(test_acc_average))"
   ]
  },
  {
   "cell_type": "markdown",
   "metadata": {},
   "source": [
    "# 利用模型进行预测与可视化"
   ]
  },
  {
   "cell_type": "code",
   "execution_count": 35,
   "metadata": {},
   "outputs": [
    {
     "name": "stdout",
     "output_type": "stream",
     "text": [
      "[3 8 9 0 6 6 1 6 3 1]\n",
      "[3 8 8 0 6 6 1 6 3 1]\n"
     ]
    }
   ],
   "source": [
    "test_prop=sess.run(prop,feed_dict={x:Xtest_normalize[:10]})\n",
    "test_pred=sess.run(tf.argmax(test_prop,1))\n",
    "\n",
    "test_label=sess.run(tf.argmax(y,axis=1),feed_dict={y:Ytest_onehot[:10]})\n",
    "print (test_pred)\n",
    "print (test_label)"
   ]
  },
  {
   "cell_type": "code",
   "execution_count": 37,
   "metadata": {
    "scrolled": true
   },
   "outputs": [
    {
     "data": {
      "image/png": "[encoded data removed]",
      "text/plain": [
       "<Figure size 720x864 with 10 Axes>"
      ]
     },
     "metadata": {},
     "output_type": "display_data"
    }
   ],
   "source": [
    "def plot_images_labels(imgs,labels,preds,index=0,num=10):\n",
    "    fig=plt.figure(figsize=(10,12))\n",
    "    for i in range(num):\n",
    "        plt.subplot(5,5,i+1)\n",
    "        plt.imshow(imgs[index+i].reshape(32,32,3))\n",
    "        plt.title('label:{},pred:{}'.format(labels[i],preds[i]),fontsize=12)\n",
    "        plt.xticks([])\n",
    "        plt.yticks([])\n",
    "    plt.show()\n",
    "\n",
    "plot_images_labels(Xtest_normalize,test_label,test_pred)"
   ]
  },
  {
   "cell_type": "code",
   "execution_count": null,
   "metadata": {},
   "outputs": [],
   "source": []
  }
 ],
 "metadata": {
  "kernelspec": {
   "display_name": "Python 3",
   "language": "python",
   "name": "python3"
  },
  "language_info": {
   "codemirror_mode": {
    "name": "ipython",
    "version": 3
   },
   "file_extension": ".py",
   "mimetype": "text/x-python",
   "name": "python",
   "nbconvert_exporter": "python",
   "pygments_lexer": "ipython3",
   "version": "3.6.8"
  }
 },
 "nbformat": 4,
 "nbformat_minor": 2
}
