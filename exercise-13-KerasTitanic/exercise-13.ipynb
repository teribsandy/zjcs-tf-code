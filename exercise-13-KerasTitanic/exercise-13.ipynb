{
 "cells": [
  {
   "cell_type": "code",
   "execution_count": 1,
   "metadata": {},
   "outputs": [],
   "source": [
    "import pandas as pd\n",
    "\n",
    "data=pd.read_csv('train.csv')"
   ]
  },
  {
   "cell_type": "code",
   "execution_count": 2,
   "metadata": {},
   "outputs": [
    {
     "data": {
      "text/plain": [
       "Index(['PassengerId', 'Survived', 'Pclass', 'Name', 'Sex', 'Age', 'SibSp',\n",
       "       'Parch', 'Ticket', 'Fare', 'Cabin', 'Embarked'],\n",
       "      dtype='object')"
      ]
     },
     "execution_count": 2,
     "metadata": {},
     "output_type": "execute_result"
    }
   ],
   "source": [
    "data.columns"
   ]
  },
  {
   "cell_type": "code",
   "execution_count": 3,
   "metadata": {},
   "outputs": [
    {
     "data": {
      "text/plain": [
       "PassengerId      0\n",
       "Survived         0\n",
       "Pclass           0\n",
       "Name             0\n",
       "Sex              0\n",
       "Age            177\n",
       "SibSp            0\n",
       "Parch            0\n",
       "Ticket           0\n",
       "Fare             0\n",
       "Cabin          687\n",
       "Embarked         2\n",
       "dtype: int64"
      ]
     },
     "execution_count": 3,
     "metadata": {},
     "output_type": "execute_result"
    }
   ],
   "source": [
    "data.isnull().sum()"
   ]
  },
  {
   "cell_type": "markdown",
   "metadata": {},
   "source": []
  },
  {
   "cell_type": "code",
   "execution_count": 26,
   "metadata": {},
   "outputs": [],
   "source": [
    "cols=['Survived', 'Pclass', 'Sex', 'Age', 'SibSp', 'Parch', 'Fare', 'Embarked']\n",
    "sdata=data[cols].sample(frac=1)"
   ]
  },
  {
   "cell_type": "code",
   "execution_count": 27,
   "metadata": {},
   "outputs": [],
   "source": [
    "import numpy as np\n",
    "from sklearn import preprocessing\n",
    "\n",
    "def prepare(sdata):\n",
    "    sdata['Age']=sdata['Age'].fillna(sdata['Age'].mean())\n",
    "    sdata['Embarked']=sdata['Embarked'].fillna('S')\n",
    "    print (sdata.isnull().sum())\n",
    "\n",
    "    sdata['Sex']=sdata['Sex'].map({'female':0,'male':1}).astype(int)\n",
    "    sdata['Embarked']=sdata['Embarked'].map({'C':0,'Q':1,'S':2}).astype(int) \n",
    "\n",
    "    print (sdata[:5])\n",
    "\n",
    "    features=sdata.drop(['Survived'],axis=1) #DataFrame (891,7)\n",
    "    f=features.values  #ndarray (891,7)\n",
    "\n",
    "    scale=preprocessing.MinMaxScaler() \n",
    "    norm_features=scale.fit_transform(f) #ndarray (891,7)\n",
    "\n",
    "    #scale.fit_transfrom()传入不管是features还是f，输出的都是ndarray数组\n",
    "    #因此，我们最好还是令函数的返回值统一为ndarray类型\n",
    "    labels=sdata[['Survived']] #DataFrame (891,1)\n",
    "    labels=labels.values #ndarray (891,1)\n",
    "    \n",
    "    return norm_features,labels\n",
    "    "
   ]
  },
  {
   "cell_type": "code",
   "execution_count": 28,
   "metadata": {},
   "outputs": [
    {
     "name": "stdout",
     "output_type": "stream",
     "text": [
      "Survived    0\n",
      "Pclass      0\n",
      "Sex         0\n",
      "Age         0\n",
      "SibSp       0\n",
      "Parch       0\n",
      "Fare        0\n",
      "Embarked    0\n",
      "dtype: int64\n",
      "     Survived  Pclass  Sex        Age  SibSp  Parch      Fare  Embarked\n",
      "481         0       2    1  29.699118      0      0    0.0000         2\n",
      "856         1       1    0  45.000000      1      1  164.8667         2\n",
      "534         0       3    0  30.000000      0      0    8.6625         2\n",
      "524         0       3    1  29.699118      0      0    7.2292         0\n",
      "391         1       3    1  21.000000      0      0    7.7958         2\n"
     ]
    }
   ],
   "source": [
    "norm_features,labels=prepare(sdata)"
   ]
  },
  {
   "cell_type": "markdown",
   "metadata": {},
   "source": []
  },
  {
   "cell_type": "code",
   "execution_count": 29,
   "metadata": {},
   "outputs": [],
   "source": [
    "size=int(len(norm_features)*0.8)\n",
    "\n",
    "x_train=norm_features[:size]\n",
    "y_train=labels[:size]\n",
    "\n",
    "x_test=norm_features[size:]\n",
    "y_test=labels[size:]"
   ]
  },
  {
   "cell_type": "markdown",
   "metadata": {},
   "source": []
  },
  {
   "cell_type": "markdown",
   "metadata": {},
   "source": [
    "<img src='网络结构.png'>"
   ]
  },
  {
   "cell_type": "code",
   "execution_count": 33,
   "metadata": {},
   "outputs": [
    {
     "name": "stdout",
     "output_type": "stream",
     "text": [
      "WARNING:tensorflow:From /anaconda3/envs/dayuse/lib/python3.6/site-packages/tensorflow/python/keras/layers/core.py:143: calling dropout (from tensorflow.python.ops.nn_ops) with keep_prob is deprecated and will be removed in a future version.\n",
      "Instructions for updating:\n",
      "Please use `rate` instead of `keep_prob`. Rate should be set to `rate = 1 - keep_prob`.\n"
     ]
    }
   ],
   "source": [
    "import tensorflow as tf\n",
    "\n",
    "model=tf.keras.models.Sequential()\n",
    "\n",
    "model.add(tf.keras.layers.Dense(units=64,\n",
    "                                #input_shape=(7,)\n",
    "                                input_dim=7,\n",
    "                               activation='relu'))\n",
    "model.add(tf.keras.layers.Dropout(rate=0.3))\n",
    "\n",
    "model.add(tf.keras.layers.Dense(units=32,\n",
    "                               activation='relu'))\n",
    "model.add(tf.keras.layers.Dropout(rate=0.3))\n",
    "\n",
    "model.add(tf.keras.layers.Dense(units=1,\n",
    "                               activation='sigmoid'))"
   ]
  },
  {
   "cell_type": "code",
   "execution_count": 34,
   "metadata": {},
   "outputs": [
    {
     "name": "stdout",
     "output_type": "stream",
     "text": [
      "_________________________________________________________________\n",
      "Layer (type)                 Output Shape              Param #   \n",
      "=================================================================\n",
      "dense_3 (Dense)              (None, 64)                512       \n",
      "_________________________________________________________________\n",
      "dropout (Dropout)            (None, 64)                0         \n",
      "_________________________________________________________________\n",
      "dense_4 (Dense)              (None, 32)                2080      \n",
      "_________________________________________________________________\n",
      "dropout_1 (Dropout)          (None, 32)                0         \n",
      "_________________________________________________________________\n",
      "dense_5 (Dense)              (None, 1)                 33        \n",
      "=================================================================\n",
      "Total params: 2,625\n",
      "Trainable params: 2,625\n",
      "Non-trainable params: 0\n",
      "_________________________________________________________________\n"
     ]
    }
   ],
   "source": [
    "model.summary()"
   ]
  },
  {
   "cell_type": "markdown",
   "metadata": {},
   "source": []
  },
  {
   "cell_type": "markdown",
   "metadata": {},
   "source": [
    "optimizer=tf.keras.optimizers.Adam(lr)\n",
    "optimizer=tf.train.AdamOptimizer(lr)\n",
    "optimizer='adam'\n",
    "\n",
    "loss='binary_crossentropy' #输出层激活函数为sigmoid时\n",
    "loss='categorical_crossentropy' #输出层激活函数为softmax时\n"
   ]
  },
  {
   "cell_type": "code",
   "execution_count": 35,
   "metadata": {},
   "outputs": [],
   "source": [
    "model.compile(optimizer=tf.keras.optimizers.Adam(0.003),\n",
    "             loss='binary_crossentropy',\n",
    "             metrics=['accuracy'])"
   ]
  },
  {
   "cell_type": "code",
   "execution_count": 36,
   "metadata": {},
   "outputs": [
    {
     "name": "stdout",
     "output_type": "stream",
     "text": [
      "Train on 569 samples, validate on 143 samples\n",
      "WARNING:tensorflow:From /anaconda3/envs/dayuse/lib/python3.6/site-packages/tensorflow/python/ops/math_ops.py:3066: to_int32 (from tensorflow.python.ops.math_ops) is deprecated and will be removed in a future version.\n",
      "Instructions for updating:\n",
      "Use tf.cast instead.\n",
      "Epoch 1/100\n",
      " - 1s - loss: 0.6574 - acc: 0.6327 - val_loss: 0.6365 - val_acc: 0.6364\n",
      "Epoch 2/100\n",
      " - 0s - loss: 0.5850 - acc: 0.6977 - val_loss: 0.5714 - val_acc: 0.7413\n",
      "Epoch 3/100\n",
      " - 0s - loss: 0.5254 - acc: 0.7487 - val_loss: 0.5316 - val_acc: 0.7692\n",
      "Epoch 4/100\n",
      " - 0s - loss: 0.4897 - acc: 0.7786 - val_loss: 0.5182 - val_acc: 0.7622\n",
      "Epoch 5/100\n",
      " - 0s - loss: 0.4969 - acc: 0.7750 - val_loss: 0.5046 - val_acc: 0.7762\n",
      "Epoch 6/100\n",
      " - 0s - loss: 0.4844 - acc: 0.7873 - val_loss: 0.4893 - val_acc: 0.7622\n",
      "Epoch 7/100\n",
      " - 0s - loss: 0.4833 - acc: 0.7592 - val_loss: 0.4800 - val_acc: 0.7692\n",
      "Epoch 8/100\n",
      " - 0s - loss: 0.4691 - acc: 0.7786 - val_loss: 0.4736 - val_acc: 0.7832\n",
      "Epoch 9/100\n",
      " - 0s - loss: 0.4679 - acc: 0.8032 - val_loss: 0.4674 - val_acc: 0.7762\n",
      "Epoch 10/100\n",
      " - 0s - loss: 0.4565 - acc: 0.8120 - val_loss: 0.4728 - val_acc: 0.7972\n",
      "Epoch 11/100\n",
      " - 0s - loss: 0.4590 - acc: 0.8032 - val_loss: 0.4623 - val_acc: 0.7902\n",
      "Epoch 12/100\n",
      " - 0s - loss: 0.4491 - acc: 0.8067 - val_loss: 0.4592 - val_acc: 0.7902\n",
      "Epoch 13/100\n",
      " - 0s - loss: 0.4508 - acc: 0.7873 - val_loss: 0.4562 - val_acc: 0.7902\n",
      "Epoch 14/100\n",
      " - 0s - loss: 0.4486 - acc: 0.8120 - val_loss: 0.4549 - val_acc: 0.7902\n",
      "Epoch 15/100\n",
      " - 0s - loss: 0.4508 - acc: 0.8102 - val_loss: 0.4496 - val_acc: 0.7902\n",
      "Epoch 16/100\n",
      " - 0s - loss: 0.4487 - acc: 0.8084 - val_loss: 0.4503 - val_acc: 0.8042\n",
      "Epoch 17/100\n",
      " - 0s - loss: 0.4448 - acc: 0.8032 - val_loss: 0.4399 - val_acc: 0.7762\n",
      "Epoch 18/100\n",
      " - 0s - loss: 0.4373 - acc: 0.8155 - val_loss: 0.4415 - val_acc: 0.7972\n",
      "Epoch 19/100\n",
      " - 0s - loss: 0.4280 - acc: 0.8278 - val_loss: 0.4333 - val_acc: 0.7902\n",
      "Epoch 20/100\n",
      " - 0s - loss: 0.4432 - acc: 0.8243 - val_loss: 0.4350 - val_acc: 0.7972\n",
      "Epoch 21/100\n",
      " - 0s - loss: 0.4356 - acc: 0.8155 - val_loss: 0.4337 - val_acc: 0.7902\n",
      "Epoch 22/100\n",
      " - 0s - loss: 0.4325 - acc: 0.8313 - val_loss: 0.4374 - val_acc: 0.7832\n",
      "Epoch 23/100\n",
      " - 0s - loss: 0.4367 - acc: 0.8172 - val_loss: 0.4363 - val_acc: 0.8042\n",
      "Epoch 24/100\n",
      " - 0s - loss: 0.4293 - acc: 0.8366 - val_loss: 0.4317 - val_acc: 0.7902\n",
      "Epoch 25/100\n",
      " - 0s - loss: 0.4309 - acc: 0.8120 - val_loss: 0.4337 - val_acc: 0.7902\n",
      "Epoch 26/100\n",
      " - 0s - loss: 0.4309 - acc: 0.8295 - val_loss: 0.4322 - val_acc: 0.8042\n",
      "Epoch 27/100\n",
      " - 0s - loss: 0.4281 - acc: 0.8207 - val_loss: 0.4307 - val_acc: 0.8042\n",
      "Epoch 28/100\n",
      " - 0s - loss: 0.4232 - acc: 0.8102 - val_loss: 0.4323 - val_acc: 0.8042\n",
      "Epoch 29/100\n",
      " - 0s - loss: 0.4262 - acc: 0.8190 - val_loss: 0.4285 - val_acc: 0.8042\n",
      "Epoch 30/100\n",
      " - 0s - loss: 0.4354 - acc: 0.8207 - val_loss: 0.4323 - val_acc: 0.8112\n",
      "Epoch 31/100\n",
      " - 0s - loss: 0.4215 - acc: 0.8207 - val_loss: 0.4339 - val_acc: 0.7972\n",
      "Epoch 32/100\n",
      " - 0s - loss: 0.4240 - acc: 0.8243 - val_loss: 0.4323 - val_acc: 0.8042\n",
      "Epoch 33/100\n",
      " - 0s - loss: 0.4278 - acc: 0.8278 - val_loss: 0.4343 - val_acc: 0.7972\n",
      "Epoch 34/100\n",
      " - 0s - loss: 0.4163 - acc: 0.8330 - val_loss: 0.4285 - val_acc: 0.8042\n",
      "Epoch 35/100\n",
      " - 0s - loss: 0.4092 - acc: 0.8225 - val_loss: 0.4306 - val_acc: 0.8112\n",
      "Epoch 36/100\n",
      " - 0s - loss: 0.4151 - acc: 0.8383 - val_loss: 0.4254 - val_acc: 0.8042\n",
      "Epoch 37/100\n",
      " - 0s - loss: 0.4203 - acc: 0.8313 - val_loss: 0.4226 - val_acc: 0.7972\n",
      "Epoch 38/100\n",
      " - 0s - loss: 0.4038 - acc: 0.8225 - val_loss: 0.4252 - val_acc: 0.8042\n",
      "Epoch 39/100\n",
      " - 0s - loss: 0.4089 - acc: 0.8243 - val_loss: 0.4245 - val_acc: 0.8112\n",
      "Epoch 40/100\n",
      " - 0s - loss: 0.4139 - acc: 0.8260 - val_loss: 0.4164 - val_acc: 0.8042\n",
      "Epoch 41/100\n",
      " - 0s - loss: 0.4314 - acc: 0.8225 - val_loss: 0.4194 - val_acc: 0.8182\n",
      "Epoch 42/100\n",
      " - 0s - loss: 0.4126 - acc: 0.8453 - val_loss: 0.4174 - val_acc: 0.8112\n",
      "Epoch 43/100\n",
      " - 0s - loss: 0.4051 - acc: 0.8278 - val_loss: 0.4198 - val_acc: 0.8182\n",
      "Epoch 44/100\n",
      " - 0s - loss: 0.4294 - acc: 0.8243 - val_loss: 0.4211 - val_acc: 0.8182\n",
      "Epoch 45/100\n",
      " - 0s - loss: 0.4243 - acc: 0.8172 - val_loss: 0.4175 - val_acc: 0.8182\n",
      "Epoch 46/100\n",
      " - 0s - loss: 0.4195 - acc: 0.8155 - val_loss: 0.4202 - val_acc: 0.8042\n",
      "Epoch 47/100\n",
      " - 0s - loss: 0.4122 - acc: 0.8278 - val_loss: 0.4150 - val_acc: 0.7972\n",
      "Epoch 48/100\n",
      " - 0s - loss: 0.4067 - acc: 0.8260 - val_loss: 0.4166 - val_acc: 0.8182\n",
      "Epoch 49/100\n",
      " - 0s - loss: 0.4044 - acc: 0.8278 - val_loss: 0.4140 - val_acc: 0.8182\n",
      "Epoch 50/100\n",
      " - 0s - loss: 0.4108 - acc: 0.8207 - val_loss: 0.4106 - val_acc: 0.8112\n",
      "Epoch 51/100\n",
      " - 0s - loss: 0.4094 - acc: 0.8155 - val_loss: 0.4109 - val_acc: 0.8182\n",
      "Epoch 52/100\n",
      " - 0s - loss: 0.4061 - acc: 0.8436 - val_loss: 0.4107 - val_acc: 0.8182\n",
      "Epoch 53/100\n",
      " - 0s - loss: 0.4013 - acc: 0.8401 - val_loss: 0.4127 - val_acc: 0.8182\n",
      "Epoch 54/100\n",
      " - 0s - loss: 0.3968 - acc: 0.8383 - val_loss: 0.4146 - val_acc: 0.8252\n",
      "Epoch 55/100\n",
      " - 0s - loss: 0.4039 - acc: 0.8453 - val_loss: 0.4100 - val_acc: 0.8322\n",
      "Epoch 56/100\n",
      " - 0s - loss: 0.3920 - acc: 0.8366 - val_loss: 0.4106 - val_acc: 0.8182\n",
      "Epoch 57/100\n",
      " - 0s - loss: 0.4059 - acc: 0.8366 - val_loss: 0.4114 - val_acc: 0.8322\n",
      "Epoch 58/100\n",
      " - 0s - loss: 0.3950 - acc: 0.8295 - val_loss: 0.4081 - val_acc: 0.8182\n",
      "Epoch 59/100\n",
      " - 0s - loss: 0.4048 - acc: 0.8436 - val_loss: 0.4127 - val_acc: 0.8322\n",
      "Epoch 60/100\n",
      " - 0s - loss: 0.4080 - acc: 0.8313 - val_loss: 0.4103 - val_acc: 0.8042\n",
      "Epoch 61/100\n",
      " - 0s - loss: 0.4029 - acc: 0.8278 - val_loss: 0.4156 - val_acc: 0.8182\n",
      "Epoch 62/100\n",
      " - 0s - loss: 0.4005 - acc: 0.8401 - val_loss: 0.4084 - val_acc: 0.8252\n",
      "Epoch 63/100\n",
      " - 0s - loss: 0.3974 - acc: 0.8401 - val_loss: 0.4100 - val_acc: 0.8252\n",
      "Epoch 64/100\n",
      " - 0s - loss: 0.3951 - acc: 0.8453 - val_loss: 0.4114 - val_acc: 0.8112\n",
      "Epoch 65/100\n",
      " - 0s - loss: 0.3954 - acc: 0.8401 - val_loss: 0.4109 - val_acc: 0.8182\n",
      "Epoch 66/100\n",
      " - 0s - loss: 0.3956 - acc: 0.8295 - val_loss: 0.4132 - val_acc: 0.8182\n",
      "Epoch 67/100\n",
      " - 0s - loss: 0.3930 - acc: 0.8366 - val_loss: 0.4143 - val_acc: 0.8252\n",
      "Epoch 68/100\n",
      " - 0s - loss: 0.3860 - acc: 0.8348 - val_loss: 0.4108 - val_acc: 0.8112\n",
      "Epoch 69/100\n",
      " - 0s - loss: 0.3828 - acc: 0.8401 - val_loss: 0.4178 - val_acc: 0.8112\n",
      "Epoch 70/100\n",
      " - 0s - loss: 0.3997 - acc: 0.8471 - val_loss: 0.4071 - val_acc: 0.8182\n",
      "Epoch 71/100\n",
      " - 0s - loss: 0.4044 - acc: 0.8313 - val_loss: 0.4090 - val_acc: 0.8182\n",
      "Epoch 72/100\n",
      " - 0s - loss: 0.3967 - acc: 0.8278 - val_loss: 0.4093 - val_acc: 0.8182\n",
      "Epoch 73/100\n",
      " - 0s - loss: 0.3905 - acc: 0.8436 - val_loss: 0.4140 - val_acc: 0.8182\n",
      "Epoch 74/100\n",
      " - 0s - loss: 0.3843 - acc: 0.8366 - val_loss: 0.4175 - val_acc: 0.7972\n",
      "Epoch 75/100\n",
      " - 0s - loss: 0.3970 - acc: 0.8313 - val_loss: 0.4247 - val_acc: 0.8322\n",
      "Epoch 76/100\n",
      " - 0s - loss: 0.3967 - acc: 0.8348 - val_loss: 0.4142 - val_acc: 0.8112\n",
      "Epoch 77/100\n",
      " - 0s - loss: 0.3892 - acc: 0.8436 - val_loss: 0.4163 - val_acc: 0.8112\n",
      "Epoch 78/100\n",
      " - 0s - loss: 0.3871 - acc: 0.8453 - val_loss: 0.4155 - val_acc: 0.8112\n",
      "Epoch 79/100\n",
      " - 0s - loss: 0.3861 - acc: 0.8401 - val_loss: 0.4124 - val_acc: 0.8112\n",
      "Epoch 80/100\n",
      " - 0s - loss: 0.3937 - acc: 0.8401 - val_loss: 0.4146 - val_acc: 0.8182\n",
      "Epoch 81/100\n",
      " - 0s - loss: 0.3762 - acc: 0.8330 - val_loss: 0.4293 - val_acc: 0.7972\n",
      "Epoch 82/100\n",
      " - 0s - loss: 0.3861 - acc: 0.8436 - val_loss: 0.4222 - val_acc: 0.8112\n",
      "Epoch 83/100\n",
      " - 0s - loss: 0.4063 - acc: 0.8453 - val_loss: 0.4232 - val_acc: 0.8112\n",
      "Epoch 84/100\n",
      " - 0s - loss: 0.3962 - acc: 0.8366 - val_loss: 0.4227 - val_acc: 0.8322\n",
      "Epoch 85/100\n",
      " - 0s - loss: 0.3898 - acc: 0.8489 - val_loss: 0.4261 - val_acc: 0.8112\n",
      "Epoch 86/100\n",
      " - 0s - loss: 0.3813 - acc: 0.8348 - val_loss: 0.4223 - val_acc: 0.8112\n",
      "Epoch 87/100\n",
      " - 0s - loss: 0.3896 - acc: 0.8436 - val_loss: 0.4221 - val_acc: 0.8112\n",
      "Epoch 88/100\n",
      " - 0s - loss: 0.3841 - acc: 0.8313 - val_loss: 0.4223 - val_acc: 0.8182\n",
      "Epoch 89/100\n",
      " - 0s - loss: 0.3751 - acc: 0.8524 - val_loss: 0.4213 - val_acc: 0.8112\n",
      "Epoch 90/100\n",
      " - 0s - loss: 0.3844 - acc: 0.8453 - val_loss: 0.4228 - val_acc: 0.7972\n",
      "Epoch 91/100\n",
      " - 0s - loss: 0.3849 - acc: 0.8436 - val_loss: 0.4261 - val_acc: 0.8112\n",
      "Epoch 92/100\n",
      " - 0s - loss: 0.3761 - acc: 0.8418 - val_loss: 0.4272 - val_acc: 0.8042\n",
      "Epoch 93/100\n",
      " - 0s - loss: 0.4016 - acc: 0.8401 - val_loss: 0.4264 - val_acc: 0.8112\n"
     ]
    },
    {
     "name": "stdout",
     "output_type": "stream",
     "text": [
      "Epoch 94/100\n",
      " - 0s - loss: 0.3849 - acc: 0.8401 - val_loss: 0.4252 - val_acc: 0.8042\n",
      "Epoch 95/100\n",
      " - 0s - loss: 0.4007 - acc: 0.8401 - val_loss: 0.4220 - val_acc: 0.8112\n",
      "Epoch 96/100\n",
      " - 0s - loss: 0.3722 - acc: 0.8489 - val_loss: 0.4202 - val_acc: 0.8112\n",
      "Epoch 97/100\n",
      " - 0s - loss: 0.3946 - acc: 0.8348 - val_loss: 0.4192 - val_acc: 0.8042\n",
      "Epoch 98/100\n",
      " - 0s - loss: 0.3813 - acc: 0.8524 - val_loss: 0.4276 - val_acc: 0.8112\n",
      "Epoch 99/100\n",
      " - 0s - loss: 0.3767 - acc: 0.8489 - val_loss: 0.4233 - val_acc: 0.8252\n",
      "Epoch 100/100\n",
      " - 0s - loss: 0.3820 - acc: 0.8436 - val_loss: 0.4227 - val_acc: 0.8042\n"
     ]
    },
    {
     "data": {
      "text/plain": [
       "dict_keys(['loss', 'acc', 'val_loss', 'val_acc'])"
      ]
     },
     "execution_count": 36,
     "metadata": {},
     "output_type": "execute_result"
    }
   ],
   "source": [
    "train_history=model.fit(x=x_train,y=y_train,validation_split=0.2,\n",
    "                        epochs=100,batch_size=40,verbose=2)\n",
    "\n",
    "train_history.history.keys()"
   ]
  },
  {
   "cell_type": "markdown",
   "metadata": {},
   "source": []
  },
  {
   "cell_type": "code",
   "execution_count": 40,
   "metadata": {},
   "outputs": [],
   "source": [
    "import matplotlib.pyplot as plt\n",
    "\n",
    "def visualize(train_history,train_metric,valid_metric):\n",
    "    plt.plot(train_history.history[train_metric])\n",
    "    plt.plot(train_history.history[valid_metric])\n",
    "    plt.xlabel('epoch')\n",
    "    plt.ylabel(train_metric)\n",
    "    plt.legend(['训练集','验证集'],loc='upper left')\n",
    "    plt.show()\n",
    "    "
   ]
  },
  {
   "cell_type": "code",
   "execution_count": 41,
   "metadata": {},
   "outputs": [
    {
     "data": {
      "image/png": "[encoded data removed]",
      "text/plain": [
       "<Figure size 432x288 with 1 Axes>"
      ]
     },
     "metadata": {
      "needs_background": "light"
     },
     "output_type": "display_data"
    }
   ],
   "source": [
    "visualize(train_history,'acc','val_acc')"
   ]
  },
  {
   "cell_type": "code",
   "execution_count": 42,
   "metadata": {},
   "outputs": [
    {
     "data": {
      "image/png": "[encoded data removed]",
      "text/plain": [
       "<Figure size 432x288 with 1 Axes>"
      ]
     },
     "metadata": {
      "needs_background": "light"
     },
     "output_type": "display_data"
    }
   ],
   "source": [
    "visualize(train_history,'loss','val_loss')"
   ]
  },
  {
   "cell_type": "markdown",
   "metadata": {},
   "source": []
  },
  {
   "cell_type": "code",
   "execution_count": 43,
   "metadata": {},
   "outputs": [
    {
     "name": "stdout",
     "output_type": "stream",
     "text": [
      "179/179 [==============================] - 0s 49us/sample - loss: 0.4579 - acc: 0.7765\n",
      "[0.45789865125490964, 0.7765363]\n"
     ]
    }
   ],
   "source": [
    "res=model.evaluate(x=x_test,y=y_test)\n",
    "print (res)"
   ]
  },
  {
   "cell_type": "code",
   "execution_count": 44,
   "metadata": {},
   "outputs": [
    {
     "data": {
      "text/plain": [
       "['loss', 'acc']"
      ]
     },
     "execution_count": 44,
     "metadata": {},
     "output_type": "execute_result"
    }
   ],
   "source": [
    "model.metrics_names"
   ]
  },
  {
   "cell_type": "markdown",
   "metadata": {},
   "source": []
  },
  {
   "cell_type": "code",
   "execution_count": 49,
   "metadata": {},
   "outputs": [
    {
     "name": "stdout",
     "output_type": "stream",
     "text": [
      "Survived    0\n",
      "Pclass      0\n",
      "Sex         0\n",
      "Age         0\n",
      "SibSp       0\n",
      "Parch       0\n",
      "Fare        0\n",
      "Embarked    0\n",
      "dtype: int64\n",
      "   Survived  Pclass  Sex  Age  SibSp  Parch   Fare  Embarked\n",
      "0         0       3    1   23      1      0    5.0         2\n",
      "1         1       1    0   20      1      0  100.0         2\n"
     ]
    }
   ],
   "source": [
    "Jack=[0,3,'male',23,1,0,5.0000,'S']\n",
    "Rose=[1,1,'female',20,1,0,100.0000,'S']\n",
    "JR=pd.DataFrame([Jack,Rose],columns=cols)\n",
    "x,y=prepare(JR)"
   ]
  },
  {
   "cell_type": "code",
   "execution_count": 50,
   "metadata": {},
   "outputs": [
    {
     "data": {
      "text/plain": [
       "array([[0.03270664],\n",
       "       [0.9988212 ]], dtype=float32)"
      ]
     },
     "execution_count": 50,
     "metadata": {},
     "output_type": "execute_result"
    }
   ],
   "source": [
    "model.predict(x) "
   ]
  }
 ],
 "metadata": {
  "kernelspec": {
   "display_name": "Python 3",
   "language": "python",
   "name": "python3"
  },
  "language_info": {
   "codemirror_mode": {
    "name": "ipython",
    "version": 3
   },
   "file_extension": ".py",
   "mimetype": "text/x-python",
   "name": "python",
   "nbconvert_exporter": "python",
   "pygments_lexer": "ipython3",
   "version": "3.6.8"
  }
 },
 "nbformat": 4,
 "nbformat_minor": 2
}
