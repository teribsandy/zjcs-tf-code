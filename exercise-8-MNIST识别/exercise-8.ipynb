{
 "cells": [
  {
   "cell_type": "markdown",
   "metadata": {},
   "source": [
    "MNIST数据集文件在读取时如果指定目录下不存在，就会自动去下载与读取；如果已经存在，则直接读取。\n",
    "\n",
    "第一次执行命令时共下载了4个压缩文件，存放在新创建的和'exercise-8'同级的'MNIST_data'文件夹中。\n",
    "\n",
    "采用one hot编码的原因：将离散特征的取值拓展到欧式空间、特征间的距离计算更合理。"
   ]
  },
  {
   "cell_type": "code",
   "execution_count": 1,
   "metadata": {},
   "outputs": [
    {
     "name": "stdout",
     "output_type": "stream",
     "text": [
      "WARNING:tensorflow:From <ipython-input-1-bc596981f0bb>:2: read_data_sets (from tensorflow.contrib.learn.python.learn.datasets.mnist) is deprecated and will be removed in a future version.\n",
      "Instructions for updating:\n",
      "Please use alternatives such as official/mnist/dataset.py from tensorflow/models.\n",
      "WARNING:tensorflow:From /anaconda3/envs/dayuse/lib/python3.6/site-packages/tensorflow/contrib/learn/python/learn/datasets/mnist.py:260: maybe_download (from tensorflow.contrib.learn.python.learn.datasets.base) is deprecated and will be removed in a future version.\n",
      "Instructions for updating:\n",
      "Please write your own downloading logic.\n",
      "WARNING:tensorflow:From /anaconda3/envs/dayuse/lib/python3.6/site-packages/tensorflow/contrib/learn/python/learn/datasets/mnist.py:262: extract_images (from tensorflow.contrib.learn.python.learn.datasets.mnist) is deprecated and will be removed in a future version.\n",
      "Instructions for updating:\n",
      "Please use tf.data to implement this functionality.\n",
      "Extracting MNIST_data/train-images-idx3-ubyte.gz\n",
      "WARNING:tensorflow:From /anaconda3/envs/dayuse/lib/python3.6/site-packages/tensorflow/contrib/learn/python/learn/datasets/mnist.py:267: extract_labels (from tensorflow.contrib.learn.python.learn.datasets.mnist) is deprecated and will be removed in a future version.\n",
      "Instructions for updating:\n",
      "Please use tf.data to implement this functionality.\n",
      "Extracting MNIST_data/train-labels-idx1-ubyte.gz\n",
      "WARNING:tensorflow:From /anaconda3/envs/dayuse/lib/python3.6/site-packages/tensorflow/contrib/learn/python/learn/datasets/mnist.py:110: dense_to_one_hot (from tensorflow.contrib.learn.python.learn.datasets.mnist) is deprecated and will be removed in a future version.\n",
      "Instructions for updating:\n",
      "Please use tf.one_hot on tensors.\n",
      "Extracting MNIST_data/t10k-images-idx3-ubyte.gz\n",
      "Extracting MNIST_data/t10k-labels-idx1-ubyte.gz\n",
      "WARNING:tensorflow:From /anaconda3/envs/dayuse/lib/python3.6/site-packages/tensorflow/contrib/learn/python/learn/datasets/mnist.py:290: DataSet.__init__ (from tensorflow.contrib.learn.python.learn.datasets.mnist) is deprecated and will be removed in a future version.\n",
      "Instructions for updating:\n",
      "Please use alternatives such as official/mnist/dataset.py from tensorflow/models.\n"
     ]
    }
   ],
   "source": [
    "from tensorflow.examples.tutorials.mnist import input_data\n",
    "mnist=input_data.read_data_sets('MNIST_data/',one_hot=True)"
   ]
  },
  {
   "cell_type": "markdown",
   "metadata": {},
   "source": [
    "数据集介绍"
   ]
  },
  {
   "cell_type": "markdown",
   "metadata": {},
   "source": [
    "\n",
    "mnist.train.num_examples  #55000\n",
    "mnist.validation.num_examples #5000\n",
    "mnist.test.num_examples  #10000\n",
    "\n",
    "mnist.train.images.shape #(55000,784)\n",
    "mnist.train.images[i] 是shape为(784,)的ndarray一维数组\n",
    "\n",
    "mnist.train.labels.shape #(55000,10)\n",
    "mnist.train.labels[i] 是shape为(10,)的ndarray一维数组(Cuz one_hot=True)\n"
   ]
  },
  {
   "cell_type": "code",
   "execution_count": 2,
   "metadata": {},
   "outputs": [],
   "source": [
    "import tensorflow as tf\n",
    "%matplotlib inline\n",
    "import matplotlib.pyplot as plt\n",
    "import numpy as np"
   ]
  },
  {
   "cell_type": "markdown",
   "metadata": {},
   "source": [
    "随机取一幅图输出看看"
   ]
  },
  {
   "cell_type": "code",
   "execution_count": 3,
   "metadata": {},
   "outputs": [
    {
     "data": {
      "image/png": "[encoded data removed]",
      "text/plain": [
       "<Figure size 432x288 with 1 Axes>"
      ]
     },
     "metadata": {
      "needs_background": "light"
     },
     "output_type": "display_data"
    }
   ],
   "source": [
    "def plot_image(img):\n",
    "    plt.imshow(img.reshape(28,28),cmap='binary')\n",
    "    plt.show()\n",
    "    \n",
    "plot_image(mnist.train.images[np.random.randint(0,55001)])"
   ]
  },
  {
   "cell_type": "markdown",
   "metadata": {},
   "source": [
    "🍃【构建模型】"
   ]
  },
  {
   "cell_type": "markdown",
   "metadata": {},
   "source": [
    "Step1:定义待输入数据的占位符"
   ]
  },
  {
   "cell_type": "code",
   "execution_count": 4,
   "metadata": {},
   "outputs": [],
   "source": [
    "x=tf.placeholder(tf.float32,shape=[None,784],name='X')\n",
    "y=tf.placeholder(tf.float32,shape=[None,10],name='Y')"
   ]
  },
  {
   "cell_type": "markdown",
   "metadata": {},
   "source": [
    "step2:定义模型变量"
   ]
  },
  {
   "cell_type": "code",
   "execution_count": 5,
   "metadata": {},
   "outputs": [
    {
     "name": "stdout",
     "output_type": "stream",
     "text": [
      "WARNING:tensorflow:From /anaconda3/envs/dayuse/lib/python3.6/site-packages/tensorflow/python/framework/op_def_library.py:263: colocate_with (from tensorflow.python.framework.ops) is deprecated and will be removed in a future version.\n",
      "Instructions for updating:\n",
      "Colocations handled automatically by placer.\n"
     ]
    }
   ],
   "source": [
    "w=tf.Variable(tf.random_normal([784,10],dtype=tf.float32),name='W')\n",
    "b=tf.Variable(tf.zeros([10],dtype=tf.float32),name='b')"
   ]
  },
  {
   "cell_type": "markdown",
   "metadata": {},
   "source": [
    "step3:定义前向计算"
   ]
  },
  {
   "cell_type": "code",
   "execution_count": 6,
   "metadata": {},
   "outputs": [],
   "source": [
    "def model(w,x,b):\n",
    "    return tf.matmul(x,w)+b\n",
    "forward=model(w,x,b)"
   ]
  },
  {
   "cell_type": "markdown",
   "metadata": {},
   "source": [
    "step4:利用softmax实现概率化输出\n",
    "利用argmax得到one-hot编码下的单个预测结果与真实标签值"
   ]
  },
  {
   "cell_type": "code",
   "execution_count": 9,
   "metadata": {},
   "outputs": [],
   "source": [
    "p=tf.nn.softmax(forward,axis=1)  #(None,10)\n",
    "pred=tf.argmax(p,1)  #(None,)\n",
    "label=tf.argmax(y,1) #(None,)"
   ]
  },
  {
   "cell_type": "markdown",
   "metadata": {},
   "source": [
    "step5:定义交叉熵损失函数"
   ]
  },
  {
   "cell_type": "code",
   "execution_count": 10,
   "metadata": {},
   "outputs": [],
   "source": [
    "Loss_Function=tf.reduce_mean(-tf.reduce_sum(y*tf.log(p),1))"
   ]
  },
  {
   "cell_type": "markdown",
   "metadata": {},
   "source": [
    "step6:设置超参数"
   ]
  },
  {
   "cell_type": "code",
   "execution_count": 11,
   "metadata": {},
   "outputs": [],
   "source": [
    "epochs=50\n",
    "lr=0.05"
   ]
  },
  {
   "cell_type": "markdown",
   "metadata": {},
   "source": [
    "step7:选择优化器"
   ]
  },
  {
   "cell_type": "code",
   "execution_count": 12,
   "metadata": {},
   "outputs": [
    {
     "name": "stdout",
     "output_type": "stream",
     "text": [
      "WARNING:tensorflow:From /anaconda3/envs/dayuse/lib/python3.6/site-packages/tensorflow/python/ops/math_ops.py:3066: to_int32 (from tensorflow.python.ops.math_ops) is deprecated and will be removed in a future version.\n",
      "Instructions for updating:\n",
      "Use tf.cast instead.\n"
     ]
    }
   ],
   "source": [
    "optimizer=tf.train.GradientDescentOptimizer(lr).minimize(Loss_Function)"
   ]
  },
  {
   "cell_type": "markdown",
   "metadata": {},
   "source": [
    "step8:定义准确率"
   ]
  },
  {
   "cell_type": "code",
   "execution_count": 14,
   "metadata": {},
   "outputs": [],
   "source": [
    "accuracy=tf.reduce_mean(tf.cast(tf.equal(pred,label),dtype=tf.float32))"
   ]
  },
  {
   "cell_type": "markdown",
   "metadata": {},
   "source": [
    "🍃【训练模型】"
   ]
  },
  {
   "cell_type": "markdown",
   "metadata": {},
   "source": [
    "step1:声明会话，初始化变量"
   ]
  },
  {
   "cell_type": "code",
   "execution_count": 22,
   "metadata": {},
   "outputs": [],
   "source": [
    "sess=tf.Session()\n",
    "init=tf.global_variables_initializer()\n",
    "sess.run(init)"
   ]
  },
  {
   "cell_type": "markdown",
   "metadata": {},
   "source": [
    "step2:训练模型（训练集用来训练、验证集用来调参）"
   ]
  },
  {
   "cell_type": "code",
   "execution_count": 23,
   "metadata": {},
   "outputs": [
    {
     "name": "stdout",
     "output_type": "stream",
     "text": [
      "第1轮 loss1.8130 acc0.6602\n",
      "第2轮 loss1.2402 acc0.7544\n",
      "第3轮 loss1.0237 acc0.7898\n",
      "第4轮 loss0.9069 acc0.8158\n",
      "第5轮 loss0.8278 acc0.8276\n",
      "第6轮 loss0.7698 acc0.8352\n",
      "第7轮 loss0.7281 acc0.8430\n",
      "第8轮 loss0.6915 acc0.8492\n",
      "第9轮 loss0.6633 acc0.8570\n",
      "第10轮 loss0.6361 acc0.8598\n",
      "第11轮 loss0.6158 acc0.8642\n",
      "第12轮 loss0.5957 acc0.8660\n",
      "第13轮 loss0.5803 acc0.8692\n",
      "第14轮 loss0.5667 acc0.8716\n",
      "第15轮 loss0.5511 acc0.8746\n",
      "第16轮 loss0.5402 acc0.8756\n",
      "第17轮 loss0.5305 acc0.8780\n",
      "第18轮 loss0.5209 acc0.8782\n",
      "第19轮 loss0.5136 acc0.8812\n",
      "第20轮 loss0.5046 acc0.8832\n",
      "第21轮 loss0.4963 acc0.8842\n",
      "第22轮 loss0.4902 acc0.8858\n",
      "第23轮 loss0.4838 acc0.8880\n",
      "第24轮 loss0.4780 acc0.8868\n",
      "第25轮 loss0.4709 acc0.8892\n",
      "第26轮 loss0.4660 acc0.8898\n",
      "第27轮 loss0.4622 acc0.8910\n",
      "第28轮 loss0.4587 acc0.8914\n",
      "第29轮 loss0.4540 acc0.8928\n",
      "第30轮 loss0.4481 acc0.8932\n",
      "第31轮 loss0.4436 acc0.8938\n",
      "第32轮 loss0.4402 acc0.8946\n",
      "第33轮 loss0.4379 acc0.8970\n",
      "第34轮 loss0.4344 acc0.8974\n",
      "第35轮 loss0.4311 acc0.8980\n",
      "第36轮 loss0.4280 acc0.8978\n",
      "第37轮 loss0.4250 acc0.8970\n",
      "第38轮 loss0.4227 acc0.8986\n",
      "第39轮 loss0.4202 acc0.8988\n",
      "第40轮 loss0.4167 acc0.8978\n",
      "第41轮 loss0.4143 acc0.8980\n",
      "第42轮 loss0.4111 acc0.8990\n",
      "第43轮 loss0.4095 acc0.8988\n",
      "第44轮 loss0.4074 acc0.8992\n",
      "第45轮 loss0.4059 acc0.9000\n",
      "第46轮 loss0.4022 acc0.8992\n",
      "第47轮 loss0.4016 acc0.9008\n",
      "第48轮 loss0.3991 acc0.9000\n",
      "第49轮 loss0.3975 acc0.9004\n",
      "第50轮 loss0.3962 acc0.9000\n"
     ]
    }
   ],
   "source": [
    "batch_size=100\n",
    "iterations=int(len(mnist.train.labels)/batch_size)\n",
    "\n",
    "for epoch in range(epochs):\n",
    "    for iteration in range(iterations):\n",
    "        batch_train_images,batch_train_labels=mnist.train.next_batch(batch_size)\n",
    "        #在训练集上训练（小批量）\n",
    "        sess.run(optimizer,feed_dict={x:batch_train_images,y:batch_train_labels})\n",
    "\n",
    "#         错误示范        \n",
    "#         _,loss,acc=sess.run([optimizer,Loss_Function,accuracy],\\\n",
    "#                             feed_dict={x:batch_train_images,y:batch_train_labels})\n",
    "    \n",
    "    #每一轮的所有批次训练完后，使用验证集计算损失和准确率\n",
    "    loss_validation,acc_validation=sess.run([Loss_Function,accuracy],\\\n",
    "                                            feed_dict={x:mnist.validation.images,y:mnist.validation.labels})\n",
    "    \n",
    "    print ('第%d轮'%(epoch+1),'loss%.4f'%loss_validation,'acc%.4f'%acc_validation)\n",
    "    "
   ]
  },
  {
   "cell_type": "markdown",
   "metadata": {},
   "source": [
    "step3:评估模型（测试集）"
   ]
  },
  {
   "cell_type": "code",
   "execution_count": 24,
   "metadata": {},
   "outputs": [
    {
     "name": "stdout",
     "output_type": "stream",
     "text": [
      "Test Accuracy: 0.8978\n",
      "Train Accuracy: 0.9\n",
      "Validation Accuracy: 0.9\n"
     ]
    }
   ],
   "source": [
    "#所有epochs完成后，在测试集上评估模型准确率\n",
    "acc_test=sess.run(accuracy,feed_dict={x:mnist.test.images,y:mnist.test.labels})\n",
    "print ('Test Accuracy:', acc_test)\n",
    "\n",
    "#不妨也输出看看所有epochs完成后，在训练集和验证集上的模型准确率,比较看看\n",
    "acc_train=sess.run(accuracy,feed_dict={x:mnist.train.images,y:mnist.train.labels})\n",
    "print ('Train Accuracy:',acc_train)\n",
    "acc_valid=sess.run(accuracy,feed_dict={x:mnist.validation.images,y:mnist.validation.labels})\n",
    "print ('Validation Accuracy:',acc_valid)\n"
   ]
  },
  {
   "cell_type": "markdown",
   "metadata": {},
   "source": [
    "🍃【模型应用与可视化】"
   ]
  },
  {
   "cell_type": "markdown",
   "metadata": {},
   "source": [
    "step1:应用模型（测试集）"
   ]
  },
  {
   "cell_type": "code",
   "execution_count": 26,
   "metadata": {},
   "outputs": [
    {
     "name": "stdout",
     "output_type": "stream",
     "text": [
      "预测标签： [7 2 1 0 4 1 4 9 6 9 0 6 9 0 1 5 9 7 3 4 9 6 6 5 4]\n",
      "真实标签： [7 2 1 0 4 1 4 9 5 9 0 6 9 0 1 5 9 7 3 4 9 6 6 5 4]\n"
     ]
    }
   ],
   "source": [
    "imgs=mnist.test.images[0:25]\n",
    "preds=sess.run(pred,feed_dict={x:mnist.test.images[0:25]})\n",
    "print('预测标签：',preds)\n",
    "\n",
    "labels=sess.run(label,feed_dict={y:mnist.test.labels[0:25]})\n",
    "print ('真实标签：',labels)"
   ]
  },
  {
   "cell_type": "markdown",
   "metadata": {},
   "source": [
    "step2:结果可视化（图形式）"
   ]
  },
  {
   "cell_type": "code",
   "execution_count": 36,
   "metadata": {},
   "outputs": [
    {
     "data": {
      "image/png": "[encoded data removed]",
      "text/plain": [
       "<Figure size 720x864 with 10 Axes>"
      ]
     },
     "metadata": {},
     "output_type": "display_data"
    }
   ],
   "source": [
    "#index表示从第index+1个数据开始连续输出25个手写数字图\n",
    "def plot_images_labels(imgs,labels,preds,index,num=10):\n",
    "    fig=plt.figure(figsize=(10,12))\n",
    "    for i in range(num):\n",
    "        plt.subplot(5,5,i+1)\n",
    "        plt.imshow(imgs[index+i].reshape(28,28),cmap='binary')\n",
    "        \n",
    "        label=labels[index+i]\n",
    "        pred=preds[index+i]\n",
    "        if label!=pred:\n",
    "            color='red'\n",
    "        else:\n",
    "            color='black'\n",
    "        title='label:{} pred:{}'.format(label,pred)\n",
    "        plt.title(title,fontsize=10,color=color)\n",
    "        \n",
    "        plt.xticks([])\n",
    "        plt.yticks([])\n",
    "    plt.show()\n",
    "    \n",
    "plot_images_labels(imgs,labels,preds,0)\n"
   ]
  },
  {
   "cell_type": "code",
   "execution_count": null,
   "metadata": {},
   "outputs": [],
   "source": []
  }
 ],
 "metadata": {
  "kernelspec": {
   "display_name": "Python 3",
   "language": "python",
   "name": "python3"
  },
  "language_info": {
   "codemirror_mode": {
    "name": "ipython",
    "version": 3
   },
   "file_extension": ".py",
   "mimetype": "text/x-python",
   "name": "python",
   "nbconvert_exporter": "python",
   "pygments_lexer": "ipython3",
   "version": "3.6.8"
  }
 },
 "nbformat": 4,
 "nbformat_minor": 2
}
