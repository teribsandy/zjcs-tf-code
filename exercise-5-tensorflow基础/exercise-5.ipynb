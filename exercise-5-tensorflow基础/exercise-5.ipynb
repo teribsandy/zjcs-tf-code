{
 "cells": [
  {
   "cell_type": "markdown",
   "metadata": {},
   "source": [
    "【第五讲】 作业：TensorFlow中计算1+2+...+10"
   ]
  },
  {
   "cell_type": "markdown",
   "metadata": {},
   "source": [
    "⚠️法1"
   ]
  },
  {
   "cell_type": "code",
   "execution_count": 48,
   "metadata": {},
   "outputs": [],
   "source": [
    "import tensorflow as tf\n",
    "tf.reset_default_graph()\n",
    "value=tf.Variable(0)\n",
    "one= tf. constant(1)\n",
    "new_value=tf.add(value,one)\n",
    "update_value=tf.assign(value,new_value)\n",
    "\n",
    "k=tf.Variable(0)\n",
    "res=tf.add(k,value)\n",
    "update_res=tf.assign(k,res)"
   ]
  },
  {
   "cell_type": "code",
   "execution_count": 49,
   "metadata": {},
   "outputs": [],
   "source": [
    "init=tf.global_variables_initializer()\n",
    "sess=tf.Session()\n",
    "sess.run(init)"
   ]
  },
  {
   "cell_type": "code",
   "execution_count": 50,
   "metadata": {},
   "outputs": [
    {
     "name": "stdout",
     "output_type": "stream",
     "text": [
      "1\n",
      "1\n",
      "==============\n",
      "2\n",
      "3\n",
      "==============\n",
      "3\n",
      "6\n",
      "==============\n",
      "4\n",
      "10\n",
      "==============\n",
      "5\n",
      "15\n",
      "==============\n",
      "6\n",
      "21\n",
      "==============\n",
      "7\n",
      "28\n",
      "==============\n",
      "8\n",
      "36\n",
      "==============\n",
      "9\n",
      "45\n",
      "==============\n",
      "10\n",
      "55\n",
      "==============\n",
      "<tf.Variable 'Variable:0' shape=() dtype=int32_ref> <tf.Variable 'Variable_1:0' shape=() dtype=int32_ref>\n"
     ]
    }
   ],
   "source": [
    "for _ in range(10):\n",
    "    print (sess.run(update_value))\n",
    "    print (sess.run(update_res))\n",
    "    print ('==============')\n",
    "print (value,k)"
   ]
  },
  {
   "cell_type": "markdown",
   "metadata": {},
   "source": [
    "⚠️法2"
   ]
  },
  {
   "cell_type": "code",
   "execution_count": 51,
   "metadata": {},
   "outputs": [],
   "source": [
    "value=tf.Variable(1)\n",
    "one= tf. constant(1)\n",
    "new_value=tf.add(value,one)\n",
    "update_value=tf.assign(value,new_value)\n",
    "\n",
    "res=tf.Variable(1)\n",
    "new_res=tf.add(res,value)\n",
    "update_res=tf.assign(res,new_res)"
   ]
  },
  {
   "cell_type": "code",
   "execution_count": 52,
   "metadata": {},
   "outputs": [],
   "source": [
    "init=tf.global_variables_initializer()\n",
    "sess=tf.Session()\n",
    "sess.run(init)"
   ]
  },
  {
   "cell_type": "code",
   "execution_count": 53,
   "metadata": {},
   "outputs": [
    {
     "name": "stdout",
     "output_type": "stream",
     "text": [
      "2\n",
      "3\n",
      "==============\n",
      "3\n",
      "6\n",
      "==============\n",
      "4\n",
      "10\n",
      "==============\n",
      "5\n",
      "15\n",
      "==============\n",
      "6\n",
      "21\n",
      "==============\n",
      "7\n",
      "28\n",
      "==============\n",
      "8\n",
      "36\n",
      "==============\n",
      "9\n",
      "45\n",
      "==============\n",
      "10\n",
      "55\n",
      "==============\n",
      "<tf.Variable 'Variable_2:0' shape=() dtype=int32_ref> <tf.Variable 'Variable_3:0' shape=() dtype=int32_ref>\n"
     ]
    }
   ],
   "source": [
    "for _ in range(9):\n",
    "    print (sess.run(update_value))\n",
    "    print (sess.run(update_res))\n",
    "    print ('==============')\n",
    "print (value,res)"
   ]
  }
 ],
 "metadata": {
  "kernelspec": {
   "display_name": "Python 3",
   "language": "python",
   "name": "python3"
  },
  "language_info": {
   "codemirror_mode": {
    "name": "ipython",
    "version": 3
   },
   "file_extension": ".py",
   "mimetype": "text/x-python",
   "name": "python",
   "nbconvert_exporter": "python",
   "pygments_lexer": "ipython3",
   "version": "3.6.8"
  }
 },
 "nbformat": 4,
 "nbformat_minor": 2
}
